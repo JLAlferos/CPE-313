{
  "cells": [
    {
      "cell_type": "markdown",
      "metadata": {
        "id": "view-in-github",
        "colab_type": "text"
      },
      "source": [
        "<a href=\"https://colab.research.google.com/github/JLAlferos/CPE-313/blob/main/Activity_3_1_Recurrent_Neural_Networks_Alferos.ipynb\" target=\"_parent\"><img src=\"https://colab.research.google.com/assets/colab-badge.svg\" alt=\"Open In Colab\"/></a>"
      ]
    },
    {
      "cell_type": "markdown",
      "id": "fourth-lesbian",
      "metadata": {
        "id": "fourth-lesbian"
      },
      "source": [
        "# Activity 3.1 - Recurrent Neural Networks"
      ]
    },
    {
      "cell_type": "markdown",
      "id": "historical-import",
      "metadata": {
        "id": "historical-import"
      },
      "source": [
        "#### Objective(s):\n",
        "\n",
        "This activity aims to introduce how to build a recurrent neural network"
      ]
    },
    {
      "cell_type": "markdown",
      "id": "related-karma",
      "metadata": {
        "id": "related-karma"
      },
      "source": [
        "#### Intended Learning Outcomes (ILOs):\n",
        "* Demonstrate how to build and train neural recurrent neural network\n",
        "* Evaluate the score and accuracy of the recurrent neural network"
      ]
    },
    {
      "cell_type": "markdown",
      "id": "fossil-thermal",
      "metadata": {
        "id": "fossil-thermal"
      },
      "source": [
        "#### Resources:\n",
        "* Jupyter Notebook\n",
        "* IMDB"
      ]
    },
    {
      "cell_type": "markdown",
      "id": "australian-marketing",
      "metadata": {
        "id": "australian-marketing"
      },
      "source": [
        "#### Procedures\n",
        "Load the necessary libraries"
      ]
    },
    {
      "cell_type": "code",
      "execution_count": 1,
      "id": "based-growing",
      "metadata": {
        "id": "based-growing"
      },
      "outputs": [],
      "source": [
        "from __future__ import print_function\n",
        "import keras\n",
        "from keras.preprocessing import sequence\n",
        "from keras.models import Sequential\n",
        "from keras.layers import Dense, Embedding\n",
        "from keras.layers import SimpleRNN\n",
        "from keras.datasets import imdb\n",
        "from keras import initializers"
      ]
    },
    {
      "cell_type": "markdown",
      "id": "romance-object",
      "metadata": {
        "id": "romance-object"
      },
      "source": [
        "* Set the max_features to 20000\n",
        "* Set the maximum length of a sequence\n",
        "* Use the batch size of 32"
      ]
    },
    {
      "cell_type": "code",
      "execution_count": 2,
      "id": "pending-finance",
      "metadata": {
        "id": "pending-finance"
      },
      "outputs": [],
      "source": [
        "max_features = 20000\n",
        "maxlen = 30\n",
        "batch_size = 32"
      ]
    },
    {
      "cell_type": "markdown",
      "id": "juvenile-defensive",
      "metadata": {
        "id": "juvenile-defensive"
      },
      "source": [
        "Load the data"
      ]
    },
    {
      "cell_type": "code",
      "execution_count": 3,
      "id": "familiar-escape",
      "metadata": {
        "id": "familiar-escape",
        "colab": {
          "base_uri": "https://localhost:8080/"
        },
        "outputId": "e0ba813b-8353-4251-8553-db0f60d24376"
      },
      "outputs": [
        {
          "output_type": "stream",
          "name": "stdout",
          "text": [
            "Downloading data from https://storage.googleapis.com/tensorflow/tf-keras-datasets/imdb.npz\n",
            "17464789/17464789 [==============================] - 0s 0us/step\n",
            "25000 train sequences\n",
            "25000 test sequences\n"
          ]
        }
      ],
      "source": [
        "\n",
        "(x_train, y_train), (x_test, y_test) = imdb.load_data(num_words=max_features)\n",
        "print(len(x_train), 'train sequences')\n",
        "print(len(x_test), 'test sequences')"
      ]
    },
    {
      "cell_type": "markdown",
      "id": "hairy-volleyball",
      "metadata": {
        "id": "hairy-volleyball"
      },
      "source": [
        " Truncates the sequences so that they are of the maximum length"
      ]
    },
    {
      "cell_type": "code",
      "execution_count": 4,
      "id": "distant-praise",
      "metadata": {
        "id": "distant-praise",
        "colab": {
          "base_uri": "https://localhost:8080/"
        },
        "outputId": "d187e9b7-2706-4e41-dd48-6086663edd51"
      },
      "outputs": [
        {
          "output_type": "stream",
          "name": "stdout",
          "text": [
            "x_train shape: (25000, 30)\n",
            "x_test shape: (25000, 30)\n"
          ]
        }
      ],
      "source": [
        "\n",
        "x_train = sequence.pad_sequences(x_train, maxlen=maxlen)\n",
        "x_test = sequence.pad_sequences(x_test, maxlen=maxlen)\n",
        "print('x_train shape:', x_train.shape)\n",
        "print('x_test shape:', x_test.shape)"
      ]
    },
    {
      "cell_type": "markdown",
      "source": [
        "Check the example of sequence"
      ],
      "metadata": {
        "id": "729Ab0xjbqRc"
      },
      "id": "729Ab0xjbqRc"
    },
    {
      "cell_type": "code",
      "execution_count": 6,
      "id": "surprising-bacteria",
      "metadata": {
        "id": "surprising-bacteria",
        "colab": {
          "base_uri": "https://localhost:8080/"
        },
        "outputId": "850e3ac4-3091-44f1-a21d-b1b576407ca9"
      },
      "outputs": [
        {
          "output_type": "execute_result",
          "data": {
            "text/plain": [
              "array([  219,   141,    35,   221,   956,    54,    13,    16,    11,\n",
              "        2714,    61,   322,   423,    12,    38,    76,    59,  1803,\n",
              "          72,     8, 10508,    23,     5,   967,    12,    38,    85,\n",
              "          62,   358,    99], dtype=int32)"
            ]
          },
          "metadata": {},
          "execution_count": 6
        }
      ],
      "source": [
        "x_train[123,:]"
      ]
    },
    {
      "cell_type": "markdown",
      "id": "quantitative-breath",
      "metadata": {
        "id": "quantitative-breath"
      },
      "source": [
        "Build a recurrent neural network"
      ]
    },
    {
      "cell_type": "code",
      "execution_count": 7,
      "id": "closed-writer",
      "metadata": {
        "id": "closed-writer"
      },
      "outputs": [],
      "source": [
        "rnn_hidden_dim = 5\n",
        "word_embedding_dim = 50\n",
        "model_rnn = Sequential()\n",
        "model_rnn.add(Embedding(max_features, word_embedding_dim))  #This layer takes each integer in the sequence and embeds it in a 50-dimensional vector\n",
        "model_rnn.add(SimpleRNN(rnn_hidden_dim,\n",
        "                    kernel_initializer=initializers.RandomNormal(stddev=0.001),\n",
        "                    recurrent_initializer=initializers.Identity(gain=1.0),\n",
        "                    activation='relu',\n",
        "                    input_shape=x_train.shape[1:]))\n",
        "\n",
        "model_rnn.add(Dense(1, activation='sigmoid'))"
      ]
    },
    {
      "cell_type": "code",
      "execution_count": 8,
      "id": "developmental-foster",
      "metadata": {
        "id": "developmental-foster",
        "colab": {
          "base_uri": "https://localhost:8080/"
        },
        "outputId": "9aa23c63-4aa1-4e70-eeb5-f92d27f16b6c"
      },
      "outputs": [
        {
          "output_type": "stream",
          "name": "stderr",
          "text": [
            "WARNING:absl:`lr` is deprecated in Keras optimizer, please use `learning_rate` or use the legacy optimizer, e.g.,tf.keras.optimizers.legacy.RMSprop.\n"
          ]
        }
      ],
      "source": [
        "rmsprop = keras.optimizers.RMSprop(lr = .0001)\n",
        "\n",
        "model_rnn.compile(loss='binary_crossentropy',\n",
        "              optimizer=rmsprop,\n",
        "              metrics=['accuracy'])"
      ]
    },
    {
      "cell_type": "code",
      "execution_count": 9,
      "id": "joined-athletics",
      "metadata": {
        "id": "joined-athletics",
        "colab": {
          "base_uri": "https://localhost:8080/"
        },
        "outputId": "3975673a-8747-49cd-d1cb-f3501d7bf44d"
      },
      "outputs": [
        {
          "output_type": "stream",
          "name": "stdout",
          "text": [
            "Epoch 1/10\n",
            "782/782 [==============================] - 15s 17ms/step - loss: 0.6108 - accuracy: 0.6740 - val_loss: 0.5399 - val_accuracy: 0.7569\n",
            "Epoch 2/10\n",
            "782/782 [==============================] - 14s 18ms/step - loss: 0.4966 - accuracy: 0.7876 - val_loss: 0.4908 - val_accuracy: 0.7763\n",
            "Epoch 3/10\n",
            "782/782 [==============================] - 13s 17ms/step - loss: 0.4401 - accuracy: 0.8110 - val_loss: 0.4842 - val_accuracy: 0.7765\n",
            "Epoch 4/10\n",
            "782/782 [==============================] - 13s 16ms/step - loss: 0.3995 - accuracy: 0.8333 - val_loss: 0.4885 - val_accuracy: 0.7618\n",
            "Epoch 5/10\n",
            "782/782 [==============================] - 13s 17ms/step - loss: 0.3656 - accuracy: 0.8492 - val_loss: 0.5847 - val_accuracy: 0.7534\n",
            "Epoch 6/10\n",
            "782/782 [==============================] - 13s 17ms/step - loss: 0.3397 - accuracy: 0.8627 - val_loss: 0.4769 - val_accuracy: 0.7771\n",
            "Epoch 7/10\n",
            "782/782 [==============================] - 17s 22ms/step - loss: 0.3183 - accuracy: 0.8745 - val_loss: 0.5119 - val_accuracy: 0.7717\n",
            "Epoch 8/10\n",
            "782/782 [==============================] - 14s 18ms/step - loss: 0.2982 - accuracy: 0.8848 - val_loss: 0.5010 - val_accuracy: 0.7688\n",
            "Epoch 9/10\n",
            "782/782 [==============================] - 13s 16ms/step - loss: 0.2805 - accuracy: 0.8939 - val_loss: 0.5251 - val_accuracy: 0.7580\n",
            "Epoch 10/10\n",
            "782/782 [==============================] - 13s 16ms/step - loss: 0.2638 - accuracy: 0.9001 - val_loss: 0.5391 - val_accuracy: 0.7610\n"
          ]
        },
        {
          "output_type": "execute_result",
          "data": {
            "text/plain": [
              "<keras.src.callbacks.History at 0x7fdc25ebd7b0>"
            ]
          },
          "metadata": {},
          "execution_count": 9
        }
      ],
      "source": [
        "model_rnn.fit(x_train, y_train,\n",
        "          batch_size=batch_size,\n",
        "          epochs=10,\n",
        "          validation_data=(x_test, y_test))"
      ]
    },
    {
      "cell_type": "markdown",
      "id": "freelance-proposal",
      "metadata": {
        "id": "freelance-proposal"
      },
      "source": [
        "Evaluate the model using the test set."
      ]
    },
    {
      "cell_type": "code",
      "execution_count": 10,
      "id": "early-connecticut",
      "metadata": {
        "id": "early-connecticut",
        "colab": {
          "base_uri": "https://localhost:8080/"
        },
        "outputId": "3a3f6ea8-81cd-4491-b925-9f141b6a7b50"
      },
      "outputs": [
        {
          "output_type": "stream",
          "name": "stdout",
          "text": [
            "782/782 [==============================] - 2s 3ms/step - loss: 0.5391 - accuracy: 0.7610\n",
            "Test score: 0.5390742421150208\n",
            "Test accuracy: 0.7609999775886536\n"
          ]
        }
      ],
      "source": [
        "score, acc = model_rnn.evaluate(x_test, y_test,\n",
        "                            batch_size=batch_size)\n",
        "print('Test score:', score)\n",
        "print('Test accuracy:', acc)"
      ]
    },
    {
      "cell_type": "markdown",
      "id": "miniature-generic",
      "metadata": {
        "id": "miniature-generic"
      },
      "source": [
        "Interpret the result\n"
      ]
    },
    {
      "cell_type": "markdown",
      "id": "marine-cotton",
      "metadata": {
        "id": "marine-cotton"
      },
      "source": [
        "> Based on the test score and test accuracy, the model is only good in the training set, but when used on test set it performs poorly."
      ]
    },
    {
      "cell_type": "markdown",
      "id": "planned-detection",
      "metadata": {
        "id": "planned-detection"
      },
      "source": [
        "#### Supplementary Activity"
      ]
    },
    {
      "cell_type": "markdown",
      "id": "industrial-frequency",
      "metadata": {
        "id": "industrial-frequency"
      },
      "source": [
        "- Prepare the data to use sequences of length 80 rather than length 30.  Did it improve the performance?\n",
        "- Try different values of the \"max_features\".  Can you improve the performance?\n",
        "- Try smaller and larger sizes of the RNN hidden dimension.  How does it affect the model performance?  How does it affect the run time?"
      ]
    },
    {
      "cell_type": "markdown",
      "source": [
        "### Prepare the data to use sequences of length 80 rather than length 30. Did it improve the performance?"
      ],
      "metadata": {
        "id": "SerPvjXVdwM2"
      },
      "id": "SerPvjXVdwM2"
    },
    {
      "cell_type": "code",
      "execution_count": 11,
      "id": "important-delight",
      "metadata": {
        "id": "important-delight"
      },
      "outputs": [],
      "source": [
        "max_features = 20000\n",
        "maxlen = 80 # change from 30 to 80\n",
        "batch_size = 32"
      ]
    },
    {
      "cell_type": "code",
      "source": [
        "# Truncates the sequences so that they are of the maximum length\n",
        "\n",
        "x_train = sequence.pad_sequences(x_train, maxlen=maxlen)\n",
        "x_test = sequence.pad_sequences(x_test, maxlen=maxlen)\n",
        "print('x_train shape:', x_train.shape)\n",
        "print('x_test shape:', x_test.shape)"
      ],
      "metadata": {
        "colab": {
          "base_uri": "https://localhost:8080/"
        },
        "id": "2gdu1GilfSY8",
        "outputId": "01b74522-a1eb-42aa-8c3c-b886c33c761b"
      },
      "id": "2gdu1GilfSY8",
      "execution_count": 12,
      "outputs": [
        {
          "output_type": "stream",
          "name": "stdout",
          "text": [
            "x_train shape: (25000, 80)\n",
            "x_test shape: (25000, 80)\n"
          ]
        }
      ]
    },
    {
      "cell_type": "code",
      "source": [
        "x_train[123,:]"
      ],
      "metadata": {
        "colab": {
          "base_uri": "https://localhost:8080/"
        },
        "id": "861jIO85fY9c",
        "outputId": "40377b4f-6b6b-40f3-b50f-1c8c4329719f"
      },
      "id": "861jIO85fY9c",
      "execution_count": 13,
      "outputs": [
        {
          "output_type": "execute_result",
          "data": {
            "text/plain": [
              "array([    0,     0,     0,     0,     0,     0,     0,     0,     0,\n",
              "           0,     0,     0,     0,     0,     0,     0,     0,     0,\n",
              "           0,     0,     0,     0,     0,     0,     0,     0,     0,\n",
              "           0,     0,     0,     0,     0,     0,     0,     0,     0,\n",
              "           0,     0,     0,     0,     0,     0,     0,     0,     0,\n",
              "           0,     0,     0,     0,     0,   219,   141,    35,   221,\n",
              "         956,    54,    13,    16,    11,  2714,    61,   322,   423,\n",
              "          12,    38,    76,    59,  1803,    72,     8, 10508,    23,\n",
              "           5,   967,    12,    38,    85,    62,   358,    99],\n",
              "      dtype=int32)"
            ]
          },
          "metadata": {},
          "execution_count": 13
        }
      ]
    },
    {
      "cell_type": "code",
      "source": [
        "rnn_hidden_dim = 5\n",
        "word_embedding_dim = 50\n",
        "model_rnn = Sequential()\n",
        "model_rnn.add(Embedding(max_features, word_embedding_dim))  #This layer takes each integer in the sequence and embeds it in a 50-dimensional vector\n",
        "model_rnn.add(SimpleRNN(rnn_hidden_dim,\n",
        "                    kernel_initializer=initializers.RandomNormal(stddev=0.001),\n",
        "                    recurrent_initializer=initializers.Identity(gain=1.0),\n",
        "                    activation='relu',\n",
        "                    input_shape=x_train.shape[1:]))\n",
        "\n",
        "model_rnn.add(Dense(1, activation='sigmoid'))"
      ],
      "metadata": {
        "id": "ZoASNIY5fZb0"
      },
      "id": "ZoASNIY5fZb0",
      "execution_count": 14,
      "outputs": []
    },
    {
      "cell_type": "code",
      "source": [
        "rmsprop = keras.optimizers.RMSprop(lr = .0001)\n",
        "\n",
        "model_rnn.compile(loss='binary_crossentropy',\n",
        "              optimizer=rmsprop,\n",
        "              metrics=['accuracy'])"
      ],
      "metadata": {
        "colab": {
          "base_uri": "https://localhost:8080/"
        },
        "id": "BaDxy5qPfcks",
        "outputId": "f1afdcb3-3971-482d-d195-157aa803e04d"
      },
      "id": "BaDxy5qPfcks",
      "execution_count": 15,
      "outputs": [
        {
          "output_type": "stream",
          "name": "stderr",
          "text": [
            "WARNING:absl:`lr` is deprecated in Keras optimizer, please use `learning_rate` or use the legacy optimizer, e.g.,tf.keras.optimizers.legacy.RMSprop.\n"
          ]
        }
      ]
    },
    {
      "cell_type": "code",
      "source": [
        "model_rnn.fit(x_train, y_train,\n",
        "          batch_size=batch_size,\n",
        "          epochs=10,\n",
        "          validation_data=(x_test, y_test))"
      ],
      "metadata": {
        "colab": {
          "base_uri": "https://localhost:8080/"
        },
        "id": "0hLZQFXSfeg8",
        "outputId": "aa24e5d6-a35e-4fbd-dfcb-533a3fae3218"
      },
      "id": "0hLZQFXSfeg8",
      "execution_count": 16,
      "outputs": [
        {
          "output_type": "stream",
          "name": "stdout",
          "text": [
            "Epoch 1/10\n",
            "782/782 [==============================] - 25s 30ms/step - loss: 0.5405 - accuracy: 0.7112 - val_loss: 0.4660 - val_accuracy: 0.7755\n",
            "Epoch 2/10\n",
            "782/782 [==============================] - 23s 29ms/step - loss: 0.4105 - accuracy: 0.8129 - val_loss: 0.4409 - val_accuracy: 0.7910\n",
            "Epoch 3/10\n",
            "782/782 [==============================] - 23s 29ms/step - loss: 0.3721 - accuracy: 0.8338 - val_loss: 0.4490 - val_accuracy: 0.7877\n",
            "Epoch 4/10\n",
            "782/782 [==============================] - 24s 30ms/step - loss: 0.3477 - accuracy: 0.8492 - val_loss: 0.4770 - val_accuracy: 0.7786\n",
            "Epoch 5/10\n",
            "782/782 [==============================] - 24s 30ms/step - loss: 0.3239 - accuracy: 0.8624 - val_loss: 0.5525 - val_accuracy: 0.7545\n",
            "Epoch 6/10\n",
            "782/782 [==============================] - 22s 28ms/step - loss: 0.3049 - accuracy: 0.8711 - val_loss: 0.4674 - val_accuracy: 0.7874\n",
            "Epoch 7/10\n",
            "782/782 [==============================] - 23s 29ms/step - loss: 0.2859 - accuracy: 0.8832 - val_loss: 0.5197 - val_accuracy: 0.7717\n",
            "Epoch 8/10\n",
            "782/782 [==============================] - 24s 30ms/step - loss: 0.2694 - accuracy: 0.8915 - val_loss: 0.5024 - val_accuracy: 0.7843\n",
            "Epoch 9/10\n",
            "782/782 [==============================] - 23s 29ms/step - loss: 0.2554 - accuracy: 0.8989 - val_loss: 0.5369 - val_accuracy: 0.7783\n",
            "Epoch 10/10\n",
            "782/782 [==============================] - 23s 29ms/step - loss: 0.2416 - accuracy: 0.9056 - val_loss: 0.5332 - val_accuracy: 0.7773\n"
          ]
        },
        {
          "output_type": "execute_result",
          "data": {
            "text/plain": [
              "<keras.src.callbacks.History at 0x7fdc25023e80>"
            ]
          },
          "metadata": {},
          "execution_count": 16
        }
      ]
    },
    {
      "cell_type": "code",
      "source": [
        "score, acc = model_rnn.evaluate(x_test, y_test,\n",
        "                            batch_size=batch_size)\n",
        "print('Test score:', score)\n",
        "print('Test accuracy:', acc)"
      ],
      "metadata": {
        "colab": {
          "base_uri": "https://localhost:8080/"
        },
        "id": "iBjtGu_cfm1M",
        "outputId": "998591a9-af10-44e5-848b-e2257dae4f8d"
      },
      "id": "iBjtGu_cfm1M",
      "execution_count": 17,
      "outputs": [
        {
          "output_type": "stream",
          "name": "stdout",
          "text": [
            "782/782 [==============================] - 4s 6ms/step - loss: 0.5332 - accuracy: 0.7773\n",
            "Test score: 0.5331814885139465\n",
            "Test accuracy: 0.7773200273513794\n"
          ]
        }
      ]
    },
    {
      "cell_type": "markdown",
      "source": [
        "Did it improve the performance?"
      ],
      "metadata": {
        "id": "5eIb4mjGhI3V"
      },
      "id": "5eIb4mjGhI3V"
    },
    {
      "cell_type": "markdown",
      "source": [
        ">  By changing the sequence length from 30 to 80, the performance did not improve at all."
      ],
      "metadata": {
        "id": "8El5lH8-g-vU"
      },
      "id": "8El5lH8-g-vU"
    },
    {
      "cell_type": "markdown",
      "source": [
        "### Try different values of the \"max_features\". Can you improve the performance?"
      ],
      "metadata": {
        "id": "8_rXwnIkdyP0"
      },
      "id": "8_rXwnIkdyP0"
    },
    {
      "cell_type": "code",
      "source": [
        "max_features = 40000\n",
        "maxlen = 80\n",
        "batch_size = 32"
      ],
      "metadata": {
        "id": "YyJt7BNMd0L9"
      },
      "id": "YyJt7BNMd0L9",
      "execution_count": 25,
      "outputs": []
    },
    {
      "cell_type": "code",
      "source": [
        "x_train = sequence.pad_sequences(x_train, maxlen=maxlen)\n",
        "x_test = sequence.pad_sequences(x_test, maxlen=maxlen)\n",
        "print('x_train shape:', x_train.shape)\n",
        "print('x_test shape:', x_test.shape)"
      ],
      "metadata": {
        "colab": {
          "base_uri": "https://localhost:8080/"
        },
        "id": "xK2CCOyXhXF9",
        "outputId": "59022d8b-58ab-4bdb-b9af-726609f976d6"
      },
      "id": "xK2CCOyXhXF9",
      "execution_count": 26,
      "outputs": [
        {
          "output_type": "stream",
          "name": "stdout",
          "text": [
            "x_train shape: (25000, 80)\n",
            "x_test shape: (25000, 80)\n"
          ]
        }
      ]
    },
    {
      "cell_type": "code",
      "source": [
        "x_train[123,:]"
      ],
      "metadata": {
        "colab": {
          "base_uri": "https://localhost:8080/"
        },
        "id": "hUx9N1fUhawc",
        "outputId": "b7b88494-49a4-41b4-9fde-5bc71a98e416"
      },
      "id": "hUx9N1fUhawc",
      "execution_count": 27,
      "outputs": [
        {
          "output_type": "execute_result",
          "data": {
            "text/plain": [
              "array([    0,     0,     0,     0,     0,     0,     0,     0,     0,\n",
              "           0,     0,     0,     0,     0,     0,     0,     0,     0,\n",
              "           0,     0,     0,     0,     0,     0,     0,     0,     0,\n",
              "           0,     0,     0,     0,     0,     0,     0,     0,     0,\n",
              "           0,     0,     0,     0,     0,     0,     0,     0,     0,\n",
              "           0,     0,     0,     0,     0,   219,   141,    35,   221,\n",
              "         956,    54,    13,    16,    11,  2714,    61,   322,   423,\n",
              "          12,    38,    76,    59,  1803,    72,     8, 10508,    23,\n",
              "           5,   967,    12,    38,    85,    62,   358,    99],\n",
              "      dtype=int32)"
            ]
          },
          "metadata": {},
          "execution_count": 27
        }
      ]
    },
    {
      "cell_type": "code",
      "source": [
        "rnn_hidden_dim = 5\n",
        "word_embedding_dim = 50\n",
        "model_rnn = Sequential()\n",
        "model_rnn.add(Embedding(max_features, word_embedding_dim))  #This layer takes each integer in the sequence and embeds it in a 50-dimensional vector\n",
        "model_rnn.add(SimpleRNN(rnn_hidden_dim,\n",
        "                    kernel_initializer=initializers.RandomNormal(stddev=0.001),\n",
        "                    recurrent_initializer=initializers.Identity(gain=1.0),\n",
        "                    activation='relu',\n",
        "                    input_shape=x_train.shape[1:]))\n",
        "\n",
        "model_rnn.add(Dense(1, activation='sigmoid'))"
      ],
      "metadata": {
        "id": "T8pjxB3Yhcel"
      },
      "id": "T8pjxB3Yhcel",
      "execution_count": 28,
      "outputs": []
    },
    {
      "cell_type": "code",
      "source": [
        "rmsprop = keras.optimizers.RMSprop(lr = .0001)\n",
        "\n",
        "model_rnn.compile(loss='binary_crossentropy',\n",
        "              optimizer=rmsprop,\n",
        "              metrics=['accuracy'])"
      ],
      "metadata": {
        "colab": {
          "base_uri": "https://localhost:8080/"
        },
        "id": "pgvgXTPQhd7v",
        "outputId": "79a35999-9d43-48b0-f87c-079a37e898e6"
      },
      "id": "pgvgXTPQhd7v",
      "execution_count": 29,
      "outputs": [
        {
          "output_type": "stream",
          "name": "stderr",
          "text": [
            "WARNING:absl:`lr` is deprecated in Keras optimizer, please use `learning_rate` or use the legacy optimizer, e.g.,tf.keras.optimizers.legacy.RMSprop.\n"
          ]
        }
      ]
    },
    {
      "cell_type": "code",
      "source": [
        "model_rnn.fit(x_train, y_train,\n",
        "          batch_size=batch_size,\n",
        "          epochs=10,\n",
        "          validation_data=(x_test, y_test))"
      ],
      "metadata": {
        "colab": {
          "base_uri": "https://localhost:8080/"
        },
        "id": "pH5ZDMKuheSE",
        "outputId": "d63d335a-e691-47ee-bcc6-3ba8ec6858ba"
      },
      "id": "pH5ZDMKuheSE",
      "execution_count": 30,
      "outputs": [
        {
          "output_type": "stream",
          "name": "stdout",
          "text": [
            "Epoch 1/10\n",
            "782/782 [==============================] - 33s 40ms/step - loss: 0.6159 - accuracy: 0.6708 - val_loss: 0.5442 - val_accuracy: 0.7565\n",
            "Epoch 2/10\n",
            "782/782 [==============================] - 29s 37ms/step - loss: 0.5044 - accuracy: 0.7798 - val_loss: 0.4978 - val_accuracy: 0.7720\n",
            "Epoch 3/10\n",
            "782/782 [==============================] - 29s 37ms/step - loss: 0.4510 - accuracy: 0.8047 - val_loss: 0.4769 - val_accuracy: 0.7788\n",
            "Epoch 4/10\n",
            "782/782 [==============================] - 29s 37ms/step - loss: 0.4181 - accuracy: 0.8205 - val_loss: 0.4672 - val_accuracy: 0.7821\n",
            "Epoch 5/10\n",
            "782/782 [==============================] - 30s 38ms/step - loss: 0.3924 - accuracy: 0.8337 - val_loss: 0.4949 - val_accuracy: 0.7739\n",
            "Epoch 6/10\n",
            "782/782 [==============================] - 28s 35ms/step - loss: 0.3691 - accuracy: 0.8446 - val_loss: 0.4722 - val_accuracy: 0.7751\n",
            "Epoch 7/10\n",
            "782/782 [==============================] - 27s 35ms/step - loss: 0.3515 - accuracy: 0.8555 - val_loss: 0.4793 - val_accuracy: 0.7816\n",
            "Epoch 8/10\n",
            "782/782 [==============================] - 27s 35ms/step - loss: 0.3331 - accuracy: 0.8642 - val_loss: 0.4758 - val_accuracy: 0.7747\n",
            "Epoch 9/10\n",
            "782/782 [==============================] - 27s 35ms/step - loss: 0.3169 - accuracy: 0.8736 - val_loss: 0.5042 - val_accuracy: 0.7786\n",
            "Epoch 10/10\n",
            "782/782 [==============================] - 28s 35ms/step - loss: 0.3028 - accuracy: 0.8808 - val_loss: 0.4846 - val_accuracy: 0.7776\n"
          ]
        },
        {
          "output_type": "execute_result",
          "data": {
            "text/plain": [
              "<keras.src.callbacks.History at 0x7fdc1c8d6770>"
            ]
          },
          "metadata": {},
          "execution_count": 30
        }
      ]
    },
    {
      "cell_type": "code",
      "source": [
        "score, acc = model_rnn.evaluate(x_test, y_test,\n",
        "                            batch_size=batch_size)\n",
        "print('Test score:', score)\n",
        "print('Test accuracy:', acc)"
      ],
      "metadata": {
        "colab": {
          "base_uri": "https://localhost:8080/"
        },
        "id": "y7vrhLxvhgwE",
        "outputId": "d4e1a8fa-a685-4180-a2c6-8fc55fe616d9"
      },
      "id": "y7vrhLxvhgwE",
      "execution_count": 31,
      "outputs": [
        {
          "output_type": "stream",
          "name": "stdout",
          "text": [
            "782/782 [==============================] - 5s 6ms/step - loss: 0.4846 - accuracy: 0.7776\n",
            "Test score: 0.48458486795425415\n",
            "Test accuracy: 0.7775599956512451\n"
          ]
        }
      ]
    },
    {
      "cell_type": "markdown",
      "source": [
        "Did it improve the performance?"
      ],
      "metadata": {
        "id": "TnXXEkynhsG5"
      },
      "id": "TnXXEkynhsG5"
    },
    {
      "cell_type": "markdown",
      "source": [
        "> I tried increasing the value of max_features, but the performance still shows now signs of improvement."
      ],
      "metadata": {
        "id": "aNH3lqlVhtaU"
      },
      "id": "aNH3lqlVhtaU"
    },
    {
      "cell_type": "markdown",
      "source": [
        "### Try smaller and larger sizes of the RNN hidden dimension. How does it affect the model performance? How does it affect the run time?"
      ],
      "metadata": {
        "id": "eq0DfCWkd0j8"
      },
      "id": "eq0DfCWkd0j8"
    },
    {
      "cell_type": "code",
      "source": [
        "max_features = 30000\n",
        "maxlen = 30\n",
        "batch_size = 32"
      ],
      "metadata": {
        "id": "EJTLGS0qd3_j"
      },
      "id": "EJTLGS0qd3_j",
      "execution_count": 32,
      "outputs": []
    },
    {
      "cell_type": "code",
      "source": [
        "x_train = sequence.pad_sequences(x_train, maxlen=maxlen)\n",
        "x_test = sequence.pad_sequences(x_test, maxlen=maxlen)\n",
        "print('x_train shape:', x_train.shape)\n",
        "print('x_test shape:', x_test.shape)"
      ],
      "metadata": {
        "colab": {
          "base_uri": "https://localhost:8080/"
        },
        "id": "IruogdyqlgMk",
        "outputId": "76eef40c-72e8-428b-ce2e-452b8d5f3489"
      },
      "id": "IruogdyqlgMk",
      "execution_count": 33,
      "outputs": [
        {
          "output_type": "stream",
          "name": "stdout",
          "text": [
            "x_train shape: (25000, 30)\n",
            "x_test shape: (25000, 30)\n"
          ]
        }
      ]
    },
    {
      "cell_type": "code",
      "source": [
        "x_train[123,:]"
      ],
      "metadata": {
        "colab": {
          "base_uri": "https://localhost:8080/"
        },
        "id": "M9x6fYG4lhtW",
        "outputId": "8aee53b5-3a28-4bf1-bef4-2771ef555fc2"
      },
      "id": "M9x6fYG4lhtW",
      "execution_count": 34,
      "outputs": [
        {
          "output_type": "execute_result",
          "data": {
            "text/plain": [
              "array([  219,   141,    35,   221,   956,    54,    13,    16,    11,\n",
              "        2714,    61,   322,   423,    12,    38,    76,    59,  1803,\n",
              "          72,     8, 10508,    23,     5,   967,    12,    38,    85,\n",
              "          62,   358,    99], dtype=int32)"
            ]
          },
          "metadata": {},
          "execution_count": 34
        }
      ]
    },
    {
      "cell_type": "code",
      "source": [
        "rnn_hidden_dim = 2 # smaller hidden dimension\n",
        "word_embedding_dim = 50\n",
        "model_rnn = Sequential()\n",
        "model_rnn.add(Embedding(max_features, word_embedding_dim))  #This layer takes each integer in the sequence and embeds it in a 50-dimensional vector\n",
        "model_rnn.add(SimpleRNN(rnn_hidden_dim,\n",
        "                    kernel_initializer=initializers.RandomNormal(stddev=0.001),\n",
        "                    recurrent_initializer=initializers.Identity(gain=1.0),\n",
        "                    activation='relu',\n",
        "                    input_shape=x_train.shape[1:]))\n",
        "\n",
        "model_rnn.add(Dense(1, activation='sigmoid'))"
      ],
      "metadata": {
        "id": "JWSwMtPwl5oN"
      },
      "id": "JWSwMtPwl5oN",
      "execution_count": 35,
      "outputs": []
    },
    {
      "cell_type": "code",
      "source": [
        "rmsprop = keras.optimizers.RMSprop(lr = .0001)\n",
        "\n",
        "model_rnn.compile(loss='binary_crossentropy',\n",
        "              optimizer=rmsprop,\n",
        "              metrics=['accuracy'])"
      ],
      "metadata": {
        "colab": {
          "base_uri": "https://localhost:8080/"
        },
        "id": "SJeKhsrZl9u0",
        "outputId": "d332e85b-d51d-48bc-a5f6-db2ada6c7dac"
      },
      "id": "SJeKhsrZl9u0",
      "execution_count": 36,
      "outputs": [
        {
          "output_type": "stream",
          "name": "stderr",
          "text": [
            "WARNING:absl:`lr` is deprecated in Keras optimizer, please use `learning_rate` or use the legacy optimizer, e.g.,tf.keras.optimizers.legacy.RMSprop.\n"
          ]
        }
      ]
    },
    {
      "cell_type": "code",
      "source": [
        "model_rnn.fit(x_train, y_train,\n",
        "          batch_size=batch_size,\n",
        "          epochs=10,\n",
        "          validation_data=(x_test, y_test))"
      ],
      "metadata": {
        "colab": {
          "base_uri": "https://localhost:8080/"
        },
        "id": "RnxZZm08mRkE",
        "outputId": "db540e38-0cc7-46ff-c338-cf4531159abe"
      },
      "id": "RnxZZm08mRkE",
      "execution_count": 37,
      "outputs": [
        {
          "output_type": "stream",
          "name": "stdout",
          "text": [
            "Epoch 1/10\n",
            "782/782 [==============================] - 18s 22ms/step - loss: 0.6932 - accuracy: 0.4985 - val_loss: 0.6931 - val_accuracy: 0.5000\n",
            "Epoch 2/10\n",
            "782/782 [==============================] - 14s 17ms/step - loss: 0.6932 - accuracy: 0.4997 - val_loss: 0.6931 - val_accuracy: 0.5000\n",
            "Epoch 3/10\n",
            "782/782 [==============================] - 14s 18ms/step - loss: 0.6932 - accuracy: 0.4951 - val_loss: 0.6932 - val_accuracy: 0.5000\n",
            "Epoch 4/10\n",
            "782/782 [==============================] - 15s 19ms/step - loss: 0.6932 - accuracy: 0.4977 - val_loss: 0.6931 - val_accuracy: 0.5000\n",
            "Epoch 5/10\n",
            "782/782 [==============================] - 15s 19ms/step - loss: 0.6932 - accuracy: 0.5001 - val_loss: 0.6931 - val_accuracy: 0.5000\n",
            "Epoch 6/10\n",
            "782/782 [==============================] - 17s 21ms/step - loss: 0.6932 - accuracy: 0.5005 - val_loss: 0.6932 - val_accuracy: 0.5000\n",
            "Epoch 7/10\n",
            "782/782 [==============================] - 16s 20ms/step - loss: 0.6932 - accuracy: 0.4942 - val_loss: 0.6931 - val_accuracy: 0.5000\n",
            "Epoch 8/10\n",
            "782/782 [==============================] - 15s 19ms/step - loss: 0.6932 - accuracy: 0.4948 - val_loss: 0.6931 - val_accuracy: 0.5000\n",
            "Epoch 9/10\n",
            "782/782 [==============================] - 14s 18ms/step - loss: 0.6932 - accuracy: 0.4972 - val_loss: 0.6931 - val_accuracy: 0.5000\n",
            "Epoch 10/10\n",
            "782/782 [==============================] - 13s 17ms/step - loss: 0.6932 - accuracy: 0.4960 - val_loss: 0.6931 - val_accuracy: 0.5000\n"
          ]
        },
        {
          "output_type": "execute_result",
          "data": {
            "text/plain": [
              "<keras.src.callbacks.History at 0x7fdc22203ee0>"
            ]
          },
          "metadata": {},
          "execution_count": 37
        }
      ]
    },
    {
      "cell_type": "code",
      "source": [
        "# Smaller hidden dim\n",
        "score, acc = model_rnn.evaluate(x_test, y_test,\n",
        "                            batch_size=batch_size)\n",
        "print('Test score:', score)\n",
        "print('Test accuracy:', acc)"
      ],
      "metadata": {
        "colab": {
          "base_uri": "https://localhost:8080/"
        },
        "id": "XzGT-gUzmR9T",
        "outputId": "408fb1cd-f851-43fe-aef6-186ce99c4e3d"
      },
      "id": "XzGT-gUzmR9T",
      "execution_count": 39,
      "outputs": [
        {
          "output_type": "stream",
          "name": "stdout",
          "text": [
            "782/782 [==============================] - 2s 3ms/step - loss: 0.6931 - accuracy: 0.5000\n",
            "Test score: 0.6931467056274414\n",
            "Test accuracy: 0.5\n"
          ]
        }
      ]
    },
    {
      "cell_type": "code",
      "source": [
        "max_features = 30000\n",
        "maxlen = 30\n",
        "batch_size = 32"
      ],
      "metadata": {
        "id": "EKWsdnbcn8Ed"
      },
      "id": "EKWsdnbcn8Ed",
      "execution_count": 60,
      "outputs": []
    },
    {
      "cell_type": "code",
      "source": [
        "x_train = sequence.pad_sequences(x_train, maxlen=maxlen)\n",
        "x_test = sequence.pad_sequences(x_test, maxlen=maxlen)\n",
        "print('x_train shape:', x_train.shape)\n",
        "print('x_test shape:', x_test.shape)"
      ],
      "metadata": {
        "colab": {
          "base_uri": "https://localhost:8080/"
        },
        "id": "PzBpnSWin8Ju",
        "outputId": "76875605-504d-42df-fc4a-adcf58835a05"
      },
      "id": "PzBpnSWin8Ju",
      "execution_count": 61,
      "outputs": [
        {
          "output_type": "stream",
          "name": "stdout",
          "text": [
            "x_train shape: (25000, 30)\n",
            "x_test shape: (25000, 30)\n"
          ]
        }
      ]
    },
    {
      "cell_type": "code",
      "source": [
        "x_train[123,:]"
      ],
      "metadata": {
        "colab": {
          "base_uri": "https://localhost:8080/"
        },
        "id": "bE2B6v47n8L9",
        "outputId": "d7e5895b-ae6d-415c-ec29-805a580ea317"
      },
      "id": "bE2B6v47n8L9",
      "execution_count": 62,
      "outputs": [
        {
          "output_type": "execute_result",
          "data": {
            "text/plain": [
              "array([  219,   141,    35,   221,   956,    54,    13,    16,    11,\n",
              "        2714,    61,   322,   423,    12,    38,    76,    59,  1803,\n",
              "          72,     8, 10508,    23,     5,   967,    12,    38,    85,\n",
              "          62,   358,    99], dtype=int32)"
            ]
          },
          "metadata": {},
          "execution_count": 62
        }
      ]
    },
    {
      "cell_type": "code",
      "source": [
        "rnn_hidden_dim = 15 # bigger hidden dimension\n",
        "word_embedding_dim = 50\n",
        "model_rnn = Sequential()\n",
        "model_rnn.add(Embedding(max_features, word_embedding_dim))  #This layer takes each integer in the sequence and embeds it in a 50-dimensional vector\n",
        "model_rnn.add(SimpleRNN(rnn_hidden_dim,\n",
        "                    kernel_initializer=initializers.RandomNormal(stddev=0.001),\n",
        "                    recurrent_initializer=initializers.Identity(gain=1.0),\n",
        "                    activation='relu',\n",
        "                    input_shape=x_train.shape[1:]))\n",
        "\n",
        "model_rnn.add(Dense(1, activation='sigmoid'))"
      ],
      "metadata": {
        "id": "6hcylZ7Sn8OA"
      },
      "id": "6hcylZ7Sn8OA",
      "execution_count": 63,
      "outputs": []
    },
    {
      "cell_type": "code",
      "source": [
        "rmsprop = keras.optimizers.RMSprop(lr = .0001)\n",
        "\n",
        "model_rnn.compile(loss='binary_crossentropy',\n",
        "              optimizer=rmsprop,\n",
        "              metrics=['accuracy'])"
      ],
      "metadata": {
        "colab": {
          "base_uri": "https://localhost:8080/"
        },
        "id": "V_-0kyjMn8Qk",
        "outputId": "b4be725a-ebfa-42c3-81e9-77288b2979af"
      },
      "id": "V_-0kyjMn8Qk",
      "execution_count": 64,
      "outputs": [
        {
          "output_type": "stream",
          "name": "stderr",
          "text": [
            "WARNING:absl:`lr` is deprecated in Keras optimizer, please use `learning_rate` or use the legacy optimizer, e.g.,tf.keras.optimizers.legacy.RMSprop.\n"
          ]
        }
      ]
    },
    {
      "cell_type": "code",
      "source": [
        "model_rnn.fit(x_train, y_train,\n",
        "          batch_size=batch_size,\n",
        "          epochs=10,\n",
        "          validation_data=(x_test, y_test))"
      ],
      "metadata": {
        "colab": {
          "base_uri": "https://localhost:8080/"
        },
        "id": "KKlymPM1oxlY",
        "outputId": "96b523e0-0480-4ed4-c9ef-75e96d873bfd"
      },
      "id": "KKlymPM1oxlY",
      "execution_count": 65,
      "outputs": [
        {
          "output_type": "stream",
          "name": "stdout",
          "text": [
            "Epoch 1/10\n",
            "782/782 [==============================] - 17s 20ms/step - loss: 0.6019 - accuracy: 0.6802 - val_loss: 0.5032 - val_accuracy: 0.7563\n",
            "Epoch 2/10\n",
            "782/782 [==============================] - 15s 20ms/step - loss: 0.4425 - accuracy: 0.7928 - val_loss: 0.4602 - val_accuracy: 0.7786\n",
            "Epoch 3/10\n",
            "782/782 [==============================] - 20s 25ms/step - loss: 0.3916 - accuracy: 0.8228 - val_loss: 0.4589 - val_accuracy: 0.7855\n",
            "Epoch 4/10\n",
            "782/782 [==============================] - 17s 21ms/step - loss: 0.3619 - accuracy: 0.8419 - val_loss: 0.4458 - val_accuracy: 0.7919\n",
            "Epoch 5/10\n",
            "782/782 [==============================] - 15s 20ms/step - loss: 0.3342 - accuracy: 0.8567 - val_loss: 0.4841 - val_accuracy: 0.7844\n",
            "Epoch 6/10\n",
            "782/782 [==============================] - 15s 20ms/step - loss: 0.3089 - accuracy: 0.8701 - val_loss: 0.4677 - val_accuracy: 0.7884\n",
            "Epoch 7/10\n",
            "782/782 [==============================] - 15s 19ms/step - loss: 0.2876 - accuracy: 0.8805 - val_loss: 0.4882 - val_accuracy: 0.7841\n",
            "Epoch 8/10\n",
            "782/782 [==============================] - 16s 20ms/step - loss: 0.2652 - accuracy: 0.8913 - val_loss: 0.5419 - val_accuracy: 0.7725\n",
            "Epoch 9/10\n",
            "782/782 [==============================] - 15s 20ms/step - loss: 0.2468 - accuracy: 0.9017 - val_loss: 0.5238 - val_accuracy: 0.7798\n",
            "Epoch 10/10\n",
            "782/782 [==============================] - 15s 20ms/step - loss: 0.2284 - accuracy: 0.9113 - val_loss: 0.5345 - val_accuracy: 0.7792\n"
          ]
        },
        {
          "output_type": "execute_result",
          "data": {
            "text/plain": [
              "<keras.src.callbacks.History at 0x7fdc25265240>"
            ]
          },
          "metadata": {},
          "execution_count": 65
        }
      ]
    },
    {
      "cell_type": "code",
      "source": [
        "# Bigger hidden dim\n",
        "score, acc = model_rnn.evaluate(x_test, y_test,\n",
        "                            batch_size=batch_size)\n",
        "print('Test score:', score)\n",
        "print('Test accuracy:', acc)"
      ],
      "metadata": {
        "colab": {
          "base_uri": "https://localhost:8080/"
        },
        "id": "uIzbaz7wo9a-",
        "outputId": "f1092893-5030-4ae6-8bf8-b76d54b5fb01"
      },
      "id": "uIzbaz7wo9a-",
      "execution_count": 66,
      "outputs": [
        {
          "output_type": "stream",
          "name": "stdout",
          "text": [
            "782/782 [==============================] - 3s 4ms/step - loss: 0.5345 - accuracy: 0.7792\n",
            "Test score: 0.5345284938812256\n",
            "Test accuracy: 0.7791600227355957\n"
          ]
        }
      ]
    },
    {
      "cell_type": "markdown",
      "source": [
        "How does it affect the model performance? How does it affect the run time?"
      ],
      "metadata": {
        "id": "lyvYp7sdma2U"
      },
      "id": "lyvYp7sdma2U"
    },
    {
      "cell_type": "markdown",
      "source": [
        "> Canging the hidden dimension to a bigger size does not affect the performance, but changing it to a smaller size greatly affects the performance, making the accuracy lower. The run time, on the other hand, does not greatly affect how fast it executes."
      ],
      "metadata": {
        "id": "lP450qSembit"
      },
      "id": "lP450qSembit"
    },
    {
      "cell_type": "markdown",
      "id": "signal-federal",
      "metadata": {
        "id": "signal-federal"
      },
      "source": [
        "#Conclusion"
      ]
    },
    {
      "cell_type": "markdown",
      "id": "interpreted-stadium",
      "metadata": {
        "id": "interpreted-stadium"
      },
      "source": [
        "> In this activity, I have learned how to build and train Recurrent Neural Networks (RNN). The proceuder involves loading the data from the IMDBV dataset, preprocess the data, and building the RNN model using keras. The supplementary task is to experiment with sequence length, max_features, and RNN hidden dimensions to see if there are any changes in the performance. Although I have accomplished all of it, there seems to be no significant increase in the perforamnce of the models."
      ]
    },
    {
      "cell_type": "code",
      "execution_count": null,
      "id": "marine-wyoming",
      "metadata": {
        "id": "marine-wyoming"
      },
      "outputs": [],
      "source": []
    }
  ],
  "metadata": {
    "kernelspec": {
      "display_name": "Python 3",
      "language": "python",
      "name": "python3"
    },
    "language_info": {
      "codemirror_mode": {
        "name": "ipython",
        "version": 3
      },
      "file_extension": ".py",
      "mimetype": "text/x-python",
      "name": "python",
      "nbconvert_exporter": "python",
      "pygments_lexer": "ipython3",
      "version": "3.7.10"
    },
    "colab": {
      "provenance": [],
      "include_colab_link": true
    }
  },
  "nbformat": 4,
  "nbformat_minor": 5
}