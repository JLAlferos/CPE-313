{
  "nbformat": 4,
  "nbformat_minor": 0,
  "metadata": {
    "colab": {
      "provenance": [],
      "authorship_tag": "ABX9TyMHImFcaX94fGGizpBhf6Cq",
      "include_colab_link": true
    },
    "kernelspec": {
      "name": "python3",
      "display_name": "Python 3"
    },
    "language_info": {
      "name": "python"
    }
  },
  "cells": [
    {
      "cell_type": "markdown",
      "metadata": {
        "id": "view-in-github",
        "colab_type": "text"
      },
      "source": [
        "<a href=\"https://colab.research.google.com/github/JLAlferos/CPE-313/blob/main/Neural_Network_Activity_Alferos.ipynb\" target=\"_parent\"><img src=\"https://colab.research.google.com/assets/colab-badge.svg\" alt=\"Open In Colab\"/></a>"
      ]
    },
    {
      "cell_type": "code",
      "source": [
        "# Neural Network"
      ],
      "metadata": {
        "id": "YEONF7t_UpNA"
      },
      "execution_count": null,
      "outputs": []
    },
    {
      "cell_type": "code",
      "source": [
        "import numpy as np"
      ],
      "metadata": {
        "id": "DGg-SRexJ_L6"
      },
      "execution_count": 15,
      "outputs": []
    },
    {
      "cell_type": "code",
      "execution_count": 16,
      "metadata": {
        "id": "zVn19WzQKzMQ"
      },
      "outputs": [],
      "source": [
        "class Neuron:\n",
        "  def __init__(self, input, weights):\n",
        "    self.input = input\n",
        "    self.weights = weights\n",
        "    self.output = self.activation_function()\n",
        "\n",
        "  def adder_function(self, input, weights): # this is the add unit where input is multiplied to the weight\n",
        "    temp = 0                                # then add all of the product\n",
        "    for i in range (len(self.weights)):\n",
        "      temp += self.input[i] * self.weights[i]\n",
        "\n",
        "    return int(temp)\n",
        "\n",
        "  # relu\n",
        "  def activation_function(self):                          # this is the activation wherein if the output of\n",
        "    temp = self.adder_function(self.input, self.weights)  # adder function is greater than 0 then it will return\n",
        "    if temp > 0:                                          # the output itself, else it will return 0\n",
        "      return temp\n",
        "    else:\n",
        "      return 0\n",
        "\n"
      ]
    },
    {
      "cell_type": "code",
      "source": [
        "class MultipleNeuron:\n",
        "  def __init__(self):\n",
        "    self.input = None\n",
        "    self.weights = None\n",
        "    self.multiple_neuron = []\n",
        "    self.output = self.activation_function()\n",
        "\n",
        "  def multiple_neuron_generator(self):  # this is where multiple neurons are generated\n",
        "    self.input.append(Neuron.output)    # it comes from the Neuron class\n",
        "    self.multiple_neuron.append(Neuron)\n",
        "\n",
        "  def adder_function(self):                               # this is where the newly generated neurons are multiplied\n",
        "    temp = 0                                              # to a new set of weights which are randomized (not yet created)\n",
        "    for i in range (len(self.multiple_neuron)):\n",
        "      temp += self.multiple_neuron[i] * self.weights[i]\n",
        "\n",
        "    return int(temp)\n",
        "\n",
        "  # sigmoid\n",
        "  def activation_function(self):                      # this is the output function wherein it is using sigmoid\n",
        "      return (1 / (1+np.e**(self.adder_function())))\n",
        "\n"
      ],
      "metadata": {
        "id": "A0Yx2Jp8NqXB"
      },
      "execution_count": 17,
      "outputs": []
    },
    {
      "cell_type": "markdown",
      "source": [
        "> NOTE: The creation of class for the network (multipleneuron class) is still ongoing. It might look that it is running, but I know deep inside that it still has a lot of internal mathematical errors."
      ],
      "metadata": {
        "id": "PK8PsUOBesEj"
      }
    },
    {
      "cell_type": "code",
      "source": [
        "# Testing"
      ],
      "metadata": {
        "id": "ZV1yWOnZc8Xc"
      },
      "execution_count": null,
      "outputs": []
    },
    {
      "cell_type": "code",
      "source": [
        "a = Neuron([1, 2, 3], [1, 2, 3])\n",
        "a.output"
      ],
      "metadata": {
        "colab": {
          "base_uri": "https://localhost:8080/"
        },
        "id": "f2ZCFPNCAFET",
        "outputId": "86065cba-30ae-4ce0-e821-29a90092066a"
      },
      "execution_count": 3,
      "outputs": [
        {
          "output_type": "execute_result",
          "data": {
            "text/plain": [
              "14"
            ]
          },
          "metadata": {},
          "execution_count": 3
        }
      ]
    },
    {
      "cell_type": "code",
      "source": [
        "a = Neuron([5, 6, 7, 8, 9],[1, 3, 5, 7, 9])\n",
        "a.output"
      ],
      "metadata": {
        "colab": {
          "base_uri": "https://localhost:8080/"
        },
        "id": "zwTGsCcZAKRi",
        "outputId": "eb28f99a-d52a-47a1-c97c-6c52320fc8b8"
      },
      "execution_count": 4,
      "outputs": [
        {
          "output_type": "execute_result",
          "data": {
            "text/plain": [
              "195"
            ]
          },
          "metadata": {},
          "execution_count": 4
        }
      ]
    },
    {
      "cell_type": "code",
      "source": [],
      "metadata": {
        "id": "CvHbcjFIEUCS"
      },
      "execution_count": null,
      "outputs": []
    }
  ]
}