{
  "nbformat": 4,
  "nbformat_minor": 0,
  "metadata": {
    "colab": {
      "provenance": [],
      "authorship_tag": "ABX9TyMq6sCC6DS9MCwL/9Z/LNjs",
      "include_colab_link": true
    },
    "kernelspec": {
      "name": "python3",
      "display_name": "Python 3"
    },
    "language_info": {
      "name": "python"
    }
  },
  "cells": [
    {
      "cell_type": "markdown",
      "metadata": {
        "id": "view-in-github",
        "colab_type": "text"
      },
      "source": [
        "<a href=\"https://colab.research.google.com/github/JLAlferos/CPE-313/blob/main/Neural_Network_Activity_Alferos.ipynb\" target=\"_parent\"><img src=\"https://colab.research.google.com/assets/colab-badge.svg\" alt=\"Open In Colab\"/></a>"
      ]
    },
    {
      "cell_type": "code",
      "source": [
        "# Neural Network"
      ],
      "metadata": {
        "id": "YEONF7t_UpNA"
      },
      "execution_count": null,
      "outputs": []
    },
    {
      "cell_type": "code",
      "execution_count": 1,
      "metadata": {
        "id": "zVn19WzQKzMQ"
      },
      "outputs": [],
      "source": [
        "class Neuron:\n",
        "  def __init__(self, input, weights):\n",
        "    self.input = input\n",
        "    self.weights = weights\n",
        "    self.output = self.activation_function()\n",
        "\n",
        "  def adder_function(self, input, weights):\n",
        "    temp = 0\n",
        "    for i in range (len(self.weights)):\n",
        "      temp += self.input[i] * self.weights[i]\n",
        "\n",
        "    return int(temp)\n",
        "\n",
        "  # relu\n",
        "  def activation_function(self):\n",
        "    temp = self.adder_function(self.input, self.weights)\n",
        "    if temp > 0:\n",
        "      return temp\n",
        "    else:\n",
        "      return 0\n"
      ]
    },
    {
      "cell_type": "code",
      "source": [
        "import numpy as np"
      ],
      "metadata": {
        "id": "amlMfT0_crHd"
      },
      "execution_count": 2,
      "outputs": []
    },
    {
      "cell_type": "code",
      "source": [
        "# Testing"
      ],
      "metadata": {
        "id": "ZV1yWOnZc8Xc"
      },
      "execution_count": 3,
      "outputs": []
    },
    {
      "cell_type": "code",
      "source": [
        "a = Neuron([1, 2, 3], [1, 2, 3])\n",
        "a.output"
      ],
      "metadata": {
        "colab": {
          "base_uri": "https://localhost:8080/"
        },
        "id": "f2ZCFPNCAFET",
        "outputId": "fdc9daa0-521d-4dfa-dd96-848daf9a3d24"
      },
      "execution_count": 7,
      "outputs": [
        {
          "output_type": "execute_result",
          "data": {
            "text/plain": [
              "14"
            ]
          },
          "metadata": {},
          "execution_count": 7
        }
      ]
    },
    {
      "cell_type": "code",
      "source": [
        "a = Neuron([5, 6, 7, 8, 9],[1, 3, 5, 7, 9])\n",
        "a.output"
      ],
      "metadata": {
        "colab": {
          "base_uri": "https://localhost:8080/"
        },
        "id": "zwTGsCcZAKRi",
        "outputId": "6e330fd2-de9c-47d4-ec4a-5df0c600343e"
      },
      "execution_count": 9,
      "outputs": [
        {
          "output_type": "execute_result",
          "data": {
            "text/plain": [
              "195"
            ]
          },
          "metadata": {},
          "execution_count": 9
        }
      ]
    },
    {
      "cell_type": "code",
      "source": [],
      "metadata": {
        "id": "CvHbcjFIEUCS"
      },
      "execution_count": null,
      "outputs": []
    }
  ]
}