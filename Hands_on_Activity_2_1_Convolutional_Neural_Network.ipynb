{
  "cells": [
    {
      "cell_type": "markdown",
      "id": "historic-trainer",
      "metadata": {
        "id": "historic-trainer"
      },
      "source": [
        "# Activity 2.1 : Convolutional Neural Network"
      ]
    },
    {
      "cell_type": "markdown",
      "id": "olive-manner",
      "metadata": {
        "id": "olive-manner"
      },
      "source": [
        "#### Objective(s):\n",
        "\n",
        "This activity aims to introduce how to build a convolutional neural network"
      ]
    },
    {
      "cell_type": "markdown",
      "id": "happy-transport",
      "metadata": {
        "id": "happy-transport"
      },
      "source": [
        "#### Intended Learning Outcomes (ILOs):\n",
        "* Demonstrate how to build and train convolutional neural network\n",
        "* Evaluate the accuracy and loss of the model using convolutional neural network"
      ]
    },
    {
      "cell_type": "markdown",
      "id": "leading-providence",
      "metadata": {
        "id": "leading-providence"
      },
      "source": [
        "#### Resources:\n",
        "* Jupyter Notebook\n",
        "* CIFAR-10 dataset"
      ]
    },
    {
      "cell_type": "markdown",
      "id": "literary-trail",
      "metadata": {
        "id": "literary-trail"
      },
      "source": [
        "#### Procedures\n",
        "Load the necessary libraries"
      ]
    },
    {
      "cell_type": "code",
      "execution_count": 24,
      "id": "stretch-active",
      "metadata": {
        "id": "stretch-active"
      },
      "outputs": [],
      "source": [
        "from __future__ import print_function\n",
        "import keras\n",
        "import tensorflow as tf\n",
        "from keras.datasets import cifar10\n",
        "from keras.preprocessing.image import ImageDataGenerator\n",
        "from keras.models import Sequential\n",
        "from keras.layers import Dense, Dropout, Activation, Flatten, BatchNormalization\n",
        "from keras.layers import Conv2D, MaxPooling2D, MaxPool2D\n",
        "from tensorflow.keras.callbacks import EarlyStopping\n",
        "\n",
        "import matplotlib.pyplot as plt\n",
        "%matplotlib inline"
      ]
    },
    {
      "cell_type": "markdown",
      "id": "collaborative-seating",
      "metadata": {
        "id": "collaborative-seating"
      },
      "source": [
        "* Shuffle the data\n",
        "* Split the data into train and test sets"
      ]
    },
    {
      "cell_type": "code",
      "execution_count": 2,
      "id": "modular-springer",
      "metadata": {
        "colab": {
          "base_uri": "https://localhost:8080/"
        },
        "id": "modular-springer",
        "outputId": "1a641fc8-f4db-49c2-c208-7c5eb4076fb4"
      },
      "outputs": [
        {
          "name": "stdout",
          "output_type": "stream",
          "text": [
            "x_train shape: (50000, 32, 32, 3)\n",
            "50000 train samples\n",
            "10000 test samples\n"
          ]
        }
      ],
      "source": [
        "\n",
        "(x_train, y_train), (x_test, y_test) = cifar10.load_data()\n",
        "print('x_train shape:', x_train.shape)\n",
        "print(x_train.shape[0], 'train samples')\n",
        "print(x_test.shape[0], 'test samples')"
      ]
    },
    {
      "cell_type": "markdown",
      "id": "female-carolina",
      "metadata": {
        "id": "female-carolina"
      },
      "source": [
        "Check the image size"
      ]
    },
    {
      "cell_type": "code",
      "execution_count": 3,
      "id": "alleged-stephen",
      "metadata": {
        "colab": {
          "base_uri": "https://localhost:8080/"
        },
        "id": "alleged-stephen",
        "outputId": "9d275a41-3466-4311-e91d-6509631dcd57"
      },
      "outputs": [
        {
          "data": {
            "text/plain": [
              "(32, 32, 3)"
            ]
          },
          "execution_count": 3,
          "metadata": {},
          "output_type": "execute_result"
        }
      ],
      "source": [
        "\n",
        "x_train[444].shape"
      ]
    },
    {
      "cell_type": "markdown",
      "id": "conscious-twenty",
      "metadata": {
        "id": "conscious-twenty"
      },
      "source": [
        "Visualize one of the images"
      ]
    },
    {
      "cell_type": "code",
      "execution_count": 4,
      "id": "positive-creation",
      "metadata": {
        "colab": {
          "base_uri": "https://localhost:8080/",
          "height": 448
        },
        "id": "positive-creation",
        "outputId": "9d988562-0c65-4adb-a01a-e590d5835c22"
      },
      "outputs": [
        {
          "name": "stdout",
          "output_type": "stream",
          "text": [
            "[9]\n"
          ]
        },
        {
          "data": {
            "image/png": "[encoded data removed]",
            "text/plain": [
              "<Figure size 640x480 with 1 Axes>"
            ]
          },
          "metadata": {},
          "output_type": "display_data"
        }
      ],
      "source": [
        "print(y_train[444])\n",
        "plt.imshow(x_train[444]);"
      ]
    },
    {
      "cell_type": "code",
      "execution_count": 5,
      "id": "animated-rotation",
      "metadata": {
        "id": "animated-rotation"
      },
      "outputs": [],
      "source": [
        "num_classes = 10\n",
        "\n",
        "y_train = keras.utils.to_categorical(y_train, num_classes)\n",
        "y_test = keras.utils.to_categorical(y_test, num_classes)"
      ]
    },
    {
      "cell_type": "markdown",
      "id": "severe-filing",
      "metadata": {
        "id": "severe-filing"
      },
      "source": [
        "Instead of classes described by an integer between 0-9 we have a vector with a 1 in the (Pythonic) 9th position"
      ]
    },
    {
      "cell_type": "code",
      "execution_count": 6,
      "id": "genetic-centre",
      "metadata": {
        "colab": {
          "base_uri": "https://localhost:8080/"
        },
        "id": "genetic-centre",
        "outputId": "4291ceec-ab59-49db-fade-8709deda8eb9"
      },
      "outputs": [
        {
          "data": {
            "text/plain": [
              "array([0., 0., 0., 0., 0., 0., 0., 0., 0., 1.], dtype=float32)"
            ]
          },
          "execution_count": 6,
          "metadata": {},
          "output_type": "execute_result"
        }
      ],
      "source": [
        "y_train[444]"
      ]
    },
    {
      "cell_type": "markdown",
      "id": "detected-education",
      "metadata": {
        "id": "detected-education"
      },
      "source": [
        "Convert to float and scale the datasets"
      ]
    },
    {
      "cell_type": "code",
      "execution_count": 7,
      "id": "familiar-damages",
      "metadata": {
        "id": "familiar-damages"
      },
      "outputs": [],
      "source": [
        "x_train = x_train.astype('float32')\n",
        "x_test = x_test.astype('float32')\n",
        "x_train /= 255\n",
        "x_test /= 255"
      ]
    },
    {
      "cell_type": "markdown",
      "id": "bizarre-smith",
      "metadata": {
        "id": "bizarre-smith"
      },
      "source": [
        "Build a CNN using Keras Sequential"
      ]
    },
    {
      "cell_type": "code",
      "execution_count": 8,
      "id": "understanding-milan",
      "metadata": {
        "colab": {
          "base_uri": "https://localhost:8080/"
        },
        "id": "understanding-milan",
        "outputId": "702f4d3e-e2a9-403b-c1ec-fa8c5638b0b4"
      },
      "outputs": [
        {
          "name": "stdout",
          "output_type": "stream",
          "text": [
            "Model: \"sequential\"\n",
            "_________________________________________________________________\n",
            " Layer (type)                Output Shape              Param #   \n",
            "=================================================================\n",
            " conv2d (Conv2D)             (None, 16, 16, 32)        2432      \n",
            "                                                                 \n",
            " activation (Activation)     (None, 16, 16, 32)        0         \n",
            "                                                                 \n",
            " conv2d_1 (Conv2D)           (None, 6, 6, 32)          25632     \n",
            "                                                                 \n",
            " activation_1 (Activation)   (None, 6, 6, 32)          0         \n",
            "                                                                 \n",
            " max_pooling2d (MaxPooling2D  (None, 3, 3, 32)         0         \n",
            " )                                                               \n",
            "                                                                 \n",
            " dropout (Dropout)           (None, 3, 3, 32)          0         \n",
            "                                                                 \n",
            " flatten (Flatten)           (None, 288)               0         \n",
            "                                                                 \n",
            " dense (Dense)               (None, 512)               147968    \n",
            "                                                                 \n",
            " activation_2 (Activation)   (None, 512)               0         \n",
            "                                                                 \n",
            " dropout_1 (Dropout)         (None, 512)               0         \n",
            "                                                                 \n",
            " dense_1 (Dense)             (None, 10)                5130      \n",
            "                                                                 \n",
            " activation_3 (Activation)   (None, 10)                0         \n",
            "                                                                 \n",
            "=================================================================\n",
            "Total params: 181,162\n",
            "Trainable params: 181,162\n",
            "Non-trainable params: 0\n",
            "_________________________________________________________________\n"
          ]
        }
      ],
      "source": [
        "\n",
        "model_1 = Sequential()\n",
        "\n",
        "\n",
        "## 5x5 convolution with 2x2 stride and 32 filters\n",
        "model_1.add(Conv2D(32, (5, 5), strides = (2,2), padding='same',\n",
        "                 input_shape=x_train.shape[1:]))\n",
        "model_1.add(Activation('relu'))\n",
        "\n",
        "## Another 5x5 convolution with 2x2 stride and 32 filters\n",
        "model_1.add(Conv2D(32, (5, 5), strides = (2,2)))\n",
        "model_1.add(Activation('relu'))\n",
        "\n",
        "## 2x2 max pooling reduces to 3 x 3 x 32\n",
        "model_1.add(MaxPooling2D(pool_size=(2, 2)))\n",
        "model_1.add(Dropout(0.25))\n",
        "\n",
        "## Flatten turns 3x3x32 into 288x1\n",
        "model_1.add(Flatten())\n",
        "model_1.add(Dense(512))\n",
        "model_1.add(Activation('relu'))\n",
        "model_1.add(Dropout(0.5))\n",
        "model_1.add(Dense(num_classes))\n",
        "model_1.add(Activation('softmax'))\n",
        "\n",
        "model_1.summary()"
      ]
    },
    {
      "cell_type": "markdown",
      "id": "baking-portable",
      "metadata": {
        "id": "baking-portable"
      },
      "source": [
        "* Use batch size of 32\n",
        "* Initiate RMSprop optimizer\n",
        "* Train the model using RMSprop"
      ]
    },
    {
      "cell_type": "code",
      "execution_count": 9,
      "id": "removed-memorial",
      "metadata": {
        "colab": {
          "base_uri": "https://localhost:8080/"
        },
        "id": "removed-memorial",
        "outputId": "e84021b7-3a58-47e8-8de7-80bc212af370"
      },
      "outputs": [
        {
          "name": "stderr",
          "output_type": "stream",
          "text": [
            "c:\\Users\\admin\\anaconda3\\envs\\tf\\lib\\site-packages\\keras\\optimizers\\optimizer_v2\\rmsprop.py:140: UserWarning: The `lr` argument is deprecated, use `learning_rate` instead.\n",
            "  super().__init__(name, **kwargs)\n"
          ]
        },
        {
          "name": "stdout",
          "output_type": "stream",
          "text": [
            "Epoch 1/15\n",
            "1563/1563 [==============================] - 19s 5ms/step - loss: 1.7205 - accuracy: 0.3746 - val_loss: 1.4496 - val_accuracy: 0.4813\n",
            "Epoch 2/15\n",
            "1563/1563 [==============================] - 7s 4ms/step - loss: 1.4498 - accuracy: 0.4774 - val_loss: 1.3383 - val_accuracy: 0.5189\n",
            "Epoch 3/15\n",
            "1563/1563 [==============================] - 7s 4ms/step - loss: 1.3511 - accuracy: 0.5166 - val_loss: 1.2591 - val_accuracy: 0.5555\n",
            "Epoch 4/15\n",
            "1563/1563 [==============================] - 7s 4ms/step - loss: 1.2791 - accuracy: 0.5449 - val_loss: 1.3182 - val_accuracy: 0.5236\n",
            "Epoch 5/15\n",
            "1563/1563 [==============================] - 7s 4ms/step - loss: 1.2348 - accuracy: 0.5617 - val_loss: 1.1215 - val_accuracy: 0.6057\n",
            "Epoch 6/15\n",
            "1563/1563 [==============================] - 7s 4ms/step - loss: 1.2007 - accuracy: 0.5756 - val_loss: 1.1060 - val_accuracy: 0.6071\n",
            "Epoch 7/15\n",
            "1563/1563 [==============================] - 7s 4ms/step - loss: 1.1697 - accuracy: 0.5893 - val_loss: 1.1454 - val_accuracy: 0.5905\n",
            "Epoch 8/15\n",
            "1563/1563 [==============================] - 7s 4ms/step - loss: 1.1487 - accuracy: 0.5970 - val_loss: 1.1116 - val_accuracy: 0.6196\n",
            "Epoch 9/15\n",
            "1563/1563 [==============================] - 7s 5ms/step - loss: 1.1313 - accuracy: 0.6043 - val_loss: 1.0689 - val_accuracy: 0.6289\n",
            "Epoch 10/15\n",
            "1563/1563 [==============================] - 7s 4ms/step - loss: 1.1149 - accuracy: 0.6104 - val_loss: 1.1212 - val_accuracy: 0.6201\n",
            "Epoch 11/15\n",
            "1563/1563 [==============================] - 7s 5ms/step - loss: 1.1082 - accuracy: 0.6160 - val_loss: 1.0397 - val_accuracy: 0.6423\n",
            "Epoch 12/15\n",
            "1563/1563 [==============================] - 7s 4ms/step - loss: 1.0971 - accuracy: 0.6213 - val_loss: 1.0846 - val_accuracy: 0.6349\n",
            "Epoch 13/15\n",
            "1563/1563 [==============================] - 7s 4ms/step - loss: 1.0887 - accuracy: 0.6249 - val_loss: 1.0524 - val_accuracy: 0.6411\n",
            "Epoch 14/15\n",
            "1563/1563 [==============================] - 7s 4ms/step - loss: 1.0804 - accuracy: 0.6290 - val_loss: 1.0581 - val_accuracy: 0.6396\n",
            "Epoch 15/15\n",
            "1563/1563 [==============================] - 7s 4ms/step - loss: 1.0756 - accuracy: 0.6318 - val_loss: 1.0563 - val_accuracy: 0.6469\n"
          ]
        },
        {
          "data": {
            "text/plain": [
              "<keras.callbacks.History at 0x24396e10b20>"
            ]
          },
          "execution_count": 9,
          "metadata": {},
          "output_type": "execute_result"
        }
      ],
      "source": [
        "batch_size = 32\n",
        "\n",
        "opt = keras.optimizers.RMSprop(lr=0.0005)\n",
        "\n",
        "\n",
        "model_1.compile(loss='categorical_crossentropy',\n",
        "              optimizer=opt,\n",
        "              metrics=['accuracy'])\n",
        "\n",
        "model_1.fit(x_train, y_train,\n",
        "              batch_size=batch_size,\n",
        "              epochs=15,\n",
        "              validation_data=(x_test, y_test))"
      ]
    },
    {
      "cell_type": "markdown",
      "id": "jewish-lambda",
      "metadata": {
        "id": "jewish-lambda"
      },
      "source": [
        "#### Supplementary Activity"
      ]
    },
    {
      "cell_type": "markdown",
      "id": "southeast-theater",
      "metadata": {
        "id": "southeast-theater"
      },
      "source": [
        "* Build a more complicated model with the following pattern:\n",
        "Conv -> Conv -> MaxPool -> Conv -> Conv -> MaxPool -> (Flatten) -> Dense -> Final Classification\n",
        "\n",
        "* Use strides of 1 for all convolutional layers.\n",
        "\n",
        "* Write the number of parameters of your model  and compare it to the previous model\n",
        "\n",
        "* Train it for 5 epochs. Commpare the training time, loss and accuracy numbers (on both the training and validation sets)?\n",
        "\n",
        "* Use different structures and run times, and see how accurate your model can be."
      ]
    },
    {
      "cell_type": "markdown",
      "id": "b55ca2e6",
      "metadata": {},
      "source": [
        "### Build a more complicated model with the following pattern: Conv -> Conv -> MaxPool -> Conv -> Conv -> MaxPool -> (Flatten) -> Dense -> Final Classification\n",
        "### Use strides of 1 for all convolutional layers."
      ]
    },
    {
      "cell_type": "code",
      "execution_count": 10,
      "id": "60076636",
      "metadata": {},
      "outputs": [
        {
          "name": "stdout",
          "output_type": "stream",
          "text": [
            "Model: \"sequential_1\"\n",
            "_________________________________________________________________\n",
            " Layer (type)                Output Shape              Param #   \n",
            "=================================================================\n",
            " conv2d_2 (Conv2D)           (None, 32, 32, 32)        2432      \n",
            "                                                                 \n",
            " activation_4 (Activation)   (None, 32, 32, 32)        0         \n",
            "                                                                 \n",
            " conv2d_3 (Conv2D)           (None, 28, 28, 32)        25632     \n",
            "                                                                 \n",
            " activation_5 (Activation)   (None, 28, 28, 32)        0         \n",
            "                                                                 \n",
            " max_pooling2d_1 (MaxPooling  (None, 14, 14, 32)       0         \n",
            " 2D)                                                             \n",
            "                                                                 \n",
            " dropout_2 (Dropout)         (None, 14, 14, 32)        0         \n",
            "                                                                 \n",
            " conv2d_4 (Conv2D)           (None, 10, 10, 32)        25632     \n",
            "                                                                 \n",
            " activation_6 (Activation)   (None, 10, 10, 32)        0         \n",
            "                                                                 \n",
            " conv2d_5 (Conv2D)           (None, 6, 6, 32)          25632     \n",
            "                                                                 \n",
            " activation_7 (Activation)   (None, 6, 6, 32)          0         \n",
            "                                                                 \n",
            " max_pooling2d_2 (MaxPooling  (None, 3, 3, 32)         0         \n",
            " 2D)                                                             \n",
            "                                                                 \n",
            " dropout_3 (Dropout)         (None, 3, 3, 32)          0         \n",
            "                                                                 \n",
            " flatten_1 (Flatten)         (None, 288)               0         \n",
            "                                                                 \n",
            " dense_2 (Dense)             (None, 512)               147968    \n",
            "                                                                 \n",
            " activation_8 (Activation)   (None, 512)               0         \n",
            "                                                                 \n",
            " dropout_4 (Dropout)         (None, 512)               0         \n",
            "                                                                 \n",
            " dense_3 (Dense)             (None, 10)                5130      \n",
            "                                                                 \n",
            " activation_9 (Activation)   (None, 10)                0         \n",
            "                                                                 \n",
            "=================================================================\n",
            "Total params: 232,426\n",
            "Trainable params: 232,426\n",
            "Non-trainable params: 0\n",
            "_________________________________________________________________\n"
          ]
        }
      ],
      "source": [
        "model_supple = Sequential()\n",
        "\n",
        "\n",
        "## 5x5 convolution with 2x2 stride and 32 filters\n",
        "model_supple.add(Conv2D(32, (5, 5), strides = (1,1), padding='same',\n",
        "                 input_shape=x_train.shape[1:]))\n",
        "model_supple.add(Activation('relu'))\n",
        "\n",
        "## Another 5x5 convolution with 2x2 stride and 32 filters\n",
        "model_supple.add(Conv2D(32, (5, 5), strides = (1,1)))\n",
        "model_supple.add(Activation('relu'))\n",
        "\n",
        "## 2x2 max pooling reduces to 3 x 3 x 32\n",
        "model_supple.add(MaxPooling2D(pool_size=(2, 2)))\n",
        "model_supple.add(Dropout(0.25))\n",
        "\n",
        "model_supple.add(Conv2D(32, (5, 5), strides = (1,1)))\n",
        "model_supple.add(Activation('relu'))\n",
        "\n",
        "model_supple.add(Conv2D(32, (5, 5), strides = (1,1)))\n",
        "model_supple.add(Activation('relu'))\n",
        "\n",
        "model_supple.add(MaxPooling2D(pool_size=(2, 2)))\n",
        "model_supple.add(Dropout(0.25))\n",
        "\n",
        "## Flatten turns 3x3x32 into 288x1\n",
        "model_supple.add(Flatten())\n",
        "model_supple.add(Dense(512))\n",
        "model_supple.add(Activation('relu'))\n",
        "model_supple.add(Dropout(0.5))\n",
        "model_supple.add(Dense(num_classes))\n",
        "model_supple.add(Activation('softmax'))\n",
        "\n",
        "model_supple.summary()"
      ]
    },
    {
      "cell_type": "markdown",
      "id": "00d9e282",
      "metadata": {},
      "source": [
        "### Write the number of parameters of your model  and compare it to the previous model"
      ]
    },
    {
      "cell_type": "markdown",
      "id": "7f861ffa",
      "metadata": {},
      "source": [
        "> The total parameters of supple model is 232426, while the procedure model is 181162. We can see that the supple model has more parameters compared to the procedure model due to its increased number of convolution."
      ]
    },
    {
      "cell_type": "markdown",
      "id": "562e11b2",
      "metadata": {},
      "source": [
        "### Train it for 5 epochs. Commpare the training time, loss and accuracy numbers (on both the training and validation sets)?"
      ]
    },
    {
      "cell_type": "code",
      "execution_count": 12,
      "id": "6f516fcc",
      "metadata": {},
      "outputs": [
        {
          "name": "stdout",
          "output_type": "stream",
          "text": [
            "Epoch 1/5\n",
            "1563/1563 [==============================] - 12s 7ms/step - loss: 1.7086 - accuracy: 0.3694 - val_loss: 1.5564 - val_accuracy: 0.4598\n",
            "Epoch 2/5\n",
            "1563/1563 [==============================] - 11s 7ms/step - loss: 1.3111 - accuracy: 0.5329 - val_loss: 1.2114 - val_accuracy: 0.5695\n",
            "Epoch 3/5\n",
            "1563/1563 [==============================] - 10s 6ms/step - loss: 1.1645 - accuracy: 0.5902 - val_loss: 1.0628 - val_accuracy: 0.6220\n",
            "Epoch 4/5\n",
            "1563/1563 [==============================] - 10s 6ms/step - loss: 1.0786 - accuracy: 0.6235 - val_loss: 1.0164 - val_accuracy: 0.6416\n",
            "Epoch 5/5\n",
            "1563/1563 [==============================] - 10s 6ms/step - loss: 1.0250 - accuracy: 0.6433 - val_loss: 0.9641 - val_accuracy: 0.6632\n"
          ]
        },
        {
          "data": {
            "text/plain": [
              "<keras.callbacks.History at 0x244bf676a90>"
            ]
          },
          "execution_count": 12,
          "metadata": {},
          "output_type": "execute_result"
        }
      ],
      "source": [
        "batch_size = 32\n",
        "\n",
        "opt = keras.optimizers.RMSprop(lr=0.0005)\n",
        "\n",
        "\n",
        "model_supple.compile(loss='categorical_crossentropy',\n",
        "              optimizer=opt,\n",
        "              metrics=['accuracy'])\n",
        "\n",
        "model_supple.fit(x_train, y_train,\n",
        "              batch_size=batch_size,\n",
        "              epochs=5,\n",
        "              validation_data=(x_test, y_test))"
      ]
    },
    {
      "cell_type": "markdown",
      "id": "97ceb2b9",
      "metadata": {},
      "source": [
        "\n",
        "> In training the models, supple model has a faster training time due to its smaller epoch compared to procedure model. Upon looking on their results, supple model has a lower loss and higher accuracy than the procedure model."
      ]
    },
    {
      "cell_type": "markdown",
      "id": "637e8c37",
      "metadata": {},
      "source": [
        "### Use different structures and run times, and see how accurate your model can be."
      ]
    },
    {
      "cell_type": "code",
      "execution_count": 20,
      "id": "9606e586",
      "metadata": {},
      "outputs": [],
      "source": [
        "model_supple1 = Sequential()\n",
        "\n",
        "# Convolutional Layer\n",
        "model_supple1.add(Conv2D(32, (3, 3), input_shape=(32, 32, 3), activation='relu', padding='same'))\n",
        "model_supple1.add(BatchNormalization())\n",
        "model_supple1.add(Conv2D(32, (3, 3), input_shape=(32, 32, 3), activation='relu', padding='same'))\n",
        "model_supple1.add(BatchNormalization())\n",
        "\n",
        "# Pooling layer\n",
        "model_supple1.add(MaxPool2D(pool_size=(2, 2)))\n",
        "\n",
        "# Dropout layers\n",
        "model_supple1.add(Dropout(0.25))\n",
        "\n",
        "model_supple1.add(Conv2D(32, (3, 3), input_shape=(32, 32, 3), activation='relu', padding='same'))\n",
        "model_supple1.add(BatchNormalization())\n",
        "model_supple1.add(Conv2D(32, (3, 3), input_shape=(32, 32, 3), activation='relu', padding='same'))\n",
        "model_supple1.add(BatchNormalization())\n",
        "\n",
        "model_supple1.add(MaxPool2D(pool_size=(2, 2)))\n",
        "\n",
        "model_supple1.add(Dropout(0.25))\n",
        "\n",
        "model_supple1.add(Conv2D(32, (3, 3), input_shape=(32, 32, 3), activation='relu', padding='same'))\n",
        "model_supple1.add(BatchNormalization())\n",
        "model_supple1.add(Conv2D(32, (3, 3), input_shape=(32, 32, 3), activation='relu', padding='same'))\n",
        "model_supple1.add(BatchNormalization())\n",
        "model_supple1.add(MaxPool2D(pool_size=(2, 2)))\n",
        "\n",
        "model_supple1.add(Dropout(0.25))\n",
        "\n",
        "model_supple1.add(Flatten())\n",
        "\n",
        "# model.add(Dropout(0.2))\n",
        "model_supple1.add(Dense(128, activation='relu'))\n",
        "model_supple1.add(Dropout(0.25))\n",
        "model_supple1.add(Dense(10, activation='softmax'))\n",
        "\n",
        "METRICS = [\n",
        "    'accuracy',\n",
        "    tf.keras.metrics.Precision(name='precision'),\n",
        "    tf.keras.metrics.Recall(name='recall')\n",
        "]\n",
        "model_supple1.compile(loss='categorical_crossentropy', optimizer='adam', metrics=METRICS)"
      ]
    },
    {
      "cell_type": "code",
      "execution_count": 21,
      "id": "7c6a4d97",
      "metadata": {},
      "outputs": [
        {
          "name": "stdout",
          "output_type": "stream",
          "text": [
            "Model: \"sequential_6\"\n",
            "_________________________________________________________________\n",
            " Layer (type)                Output Shape              Param #   \n",
            "=================================================================\n",
            " conv2d_16 (Conv2D)          (None, 32, 32, 32)        896       \n",
            "                                                                 \n",
            " batch_normalization_8 (Batc  (None, 32, 32, 32)       128       \n",
            " hNormalization)                                                 \n",
            "                                                                 \n",
            " conv2d_17 (Conv2D)          (None, 32, 32, 32)        9248      \n",
            "                                                                 \n",
            " batch_normalization_9 (Batc  (None, 32, 32, 32)       128       \n",
            " hNormalization)                                                 \n",
            "                                                                 \n",
            " max_pooling2d_6 (MaxPooling  (None, 16, 16, 32)       0         \n",
            " 2D)                                                             \n",
            "                                                                 \n",
            " dropout_9 (Dropout)         (None, 16, 16, 32)        0         \n",
            "                                                                 \n",
            " conv2d_18 (Conv2D)          (None, 16, 16, 32)        9248      \n",
            "                                                                 \n",
            " batch_normalization_10 (Bat  (None, 16, 16, 32)       128       \n",
            " chNormalization)                                                \n",
            "                                                                 \n",
            " conv2d_19 (Conv2D)          (None, 16, 16, 32)        9248      \n",
            "                                                                 \n",
            " batch_normalization_11 (Bat  (None, 16, 16, 32)       128       \n",
            " chNormalization)                                                \n",
            "                                                                 \n",
            " max_pooling2d_7 (MaxPooling  (None, 8, 8, 32)         0         \n",
            " 2D)                                                             \n",
            "                                                                 \n",
            " dropout_10 (Dropout)        (None, 8, 8, 32)          0         \n",
            "                                                                 \n",
            " conv2d_20 (Conv2D)          (None, 8, 8, 32)          9248      \n",
            "                                                                 \n",
            " batch_normalization_12 (Bat  (None, 8, 8, 32)         128       \n",
            " chNormalization)                                                \n",
            "                                                                 \n",
            " conv2d_21 (Conv2D)          (None, 8, 8, 32)          9248      \n",
            "                                                                 \n",
            " batch_normalization_13 (Bat  (None, 8, 8, 32)         128       \n",
            " chNormalization)                                                \n",
            "                                                                 \n",
            " max_pooling2d_8 (MaxPooling  (None, 4, 4, 32)         0         \n",
            " 2D)                                                             \n",
            "                                                                 \n",
            " dropout_11 (Dropout)        (None, 4, 4, 32)          0         \n",
            "                                                                 \n",
            " flatten_3 (Flatten)         (None, 512)               0         \n",
            "                                                                 \n",
            " dense_6 (Dense)             (None, 128)               65664     \n",
            "                                                                 \n",
            " dropout_12 (Dropout)        (None, 128)               0         \n",
            "                                                                 \n",
            " dense_7 (Dense)             (None, 10)                1290      \n",
            "                                                                 \n",
            "=================================================================\n",
            "Total params: 114,858\n",
            "Trainable params: 114,474\n",
            "Non-trainable params: 384\n",
            "_________________________________________________________________\n"
          ]
        }
      ],
      "source": [
        "model_supple1.summary()"
      ]
    },
    {
      "cell_type": "code",
      "execution_count": 26,
      "id": "8dabb92f",
      "metadata": {},
      "outputs": [
        {
          "name": "stderr",
          "output_type": "stream",
          "text": [
            "c:\\Users\\admin\\anaconda3\\envs\\tf\\lib\\site-packages\\keras\\optimizers\\optimizer_v2\\rmsprop.py:140: UserWarning: The `lr` argument is deprecated, use `learning_rate` instead.\n",
            "  super().__init__(name, **kwargs)\n"
          ]
        },
        {
          "name": "stdout",
          "output_type": "stream",
          "text": [
            "Epoch 1/50\n",
            "1563/1563 [==============================] - 17s 10ms/step - loss: 1.6923 - accuracy: 0.3913 - val_loss: 1.4174 - val_accuracy: 0.4941\n",
            "Epoch 2/50\n",
            "1563/1563 [==============================] - 15s 10ms/step - loss: 1.2564 - accuracy: 0.5517 - val_loss: 1.1663 - val_accuracy: 0.5923\n",
            "Epoch 3/50\n",
            "1563/1563 [==============================] - 15s 9ms/step - loss: 1.0913 - accuracy: 0.6130 - val_loss: 0.9618 - val_accuracy: 0.6606\n",
            "Epoch 4/50\n",
            "1563/1563 [==============================] - 15s 9ms/step - loss: 0.9898 - accuracy: 0.6525 - val_loss: 0.9632 - val_accuracy: 0.6534\n",
            "Epoch 5/50\n",
            "1563/1563 [==============================] - 15s 9ms/step - loss: 0.9178 - accuracy: 0.6785 - val_loss: 0.9267 - val_accuracy: 0.6850\n",
            "Epoch 6/50\n",
            "1563/1563 [==============================] - 15s 10ms/step - loss: 0.8649 - accuracy: 0.6966 - val_loss: 0.8726 - val_accuracy: 0.6950\n",
            "Epoch 7/50\n",
            "1563/1563 [==============================] - 14s 9ms/step - loss: 0.8203 - accuracy: 0.7154 - val_loss: 0.7342 - val_accuracy: 0.7487\n",
            "Epoch 8/50\n",
            "1563/1563 [==============================] - 14s 9ms/step - loss: 0.8003 - accuracy: 0.7218 - val_loss: 0.7317 - val_accuracy: 0.7499\n",
            "Epoch 9/50\n",
            "1563/1563 [==============================] - 14s 9ms/step - loss: 0.7647 - accuracy: 0.7342 - val_loss: 0.7120 - val_accuracy: 0.7581\n",
            "Epoch 10/50\n",
            "1563/1563 [==============================] - 14s 9ms/step - loss: 0.7419 - accuracy: 0.7437 - val_loss: 0.6700 - val_accuracy: 0.7670\n",
            "Epoch 11/50\n",
            "1563/1563 [==============================] - 14s 9ms/step - loss: 0.7155 - accuracy: 0.7524 - val_loss: 0.6784 - val_accuracy: 0.7708\n",
            "Epoch 12/50\n",
            "1563/1563 [==============================] - 14s 9ms/step - loss: 0.6953 - accuracy: 0.7574 - val_loss: 0.6446 - val_accuracy: 0.7778\n",
            "Epoch 13/50\n",
            "1563/1563 [==============================] - 15s 9ms/step - loss: 0.6787 - accuracy: 0.7629 - val_loss: 0.6550 - val_accuracy: 0.7740\n",
            "Epoch 14/50\n",
            "1563/1563 [==============================] - 14s 9ms/step - loss: 0.6610 - accuracy: 0.7700 - val_loss: 0.7723 - val_accuracy: 0.7382\n",
            "Epoch 15/50\n",
            "1563/1563 [==============================] - 14s 9ms/step - loss: 0.6462 - accuracy: 0.7762 - val_loss: 0.6615 - val_accuracy: 0.7735\n",
            "Epoch 16/50\n",
            "1563/1563 [==============================] - 14s 9ms/step - loss: 0.6388 - accuracy: 0.7784 - val_loss: 0.7870 - val_accuracy: 0.7290\n",
            "Epoch 17/50\n",
            "1563/1563 [==============================] - 14s 9ms/step - loss: 0.6245 - accuracy: 0.7818 - val_loss: 0.6317 - val_accuracy: 0.7857\n",
            "Epoch 18/50\n",
            "1563/1563 [==============================] - 14s 9ms/step - loss: 0.6119 - accuracy: 0.7849 - val_loss: 0.6057 - val_accuracy: 0.7922\n",
            "Epoch 19/50\n",
            "1563/1563 [==============================] - 14s 9ms/step - loss: 0.6023 - accuracy: 0.7905 - val_loss: 0.9616 - val_accuracy: 0.6990\n",
            "Epoch 20/50\n",
            "1563/1563 [==============================] - 14s 9ms/step - loss: 0.5911 - accuracy: 0.7937 - val_loss: 0.6403 - val_accuracy: 0.7851\n",
            "Epoch 21/50\n",
            "1563/1563 [==============================] - 14s 9ms/step - loss: 0.5829 - accuracy: 0.7966 - val_loss: 0.5989 - val_accuracy: 0.7987\n",
            "Epoch 22/50\n",
            "1563/1563 [==============================] - 15s 9ms/step - loss: 0.5710 - accuracy: 0.8017 - val_loss: 0.6172 - val_accuracy: 0.7919\n",
            "Epoch 23/50\n",
            "1563/1563 [==============================] - 15s 9ms/step - loss: 0.5658 - accuracy: 0.8045 - val_loss: 0.5779 - val_accuracy: 0.8024\n",
            "Epoch 24/50\n",
            "1563/1563 [==============================] - 14s 9ms/step - loss: 0.5568 - accuracy: 0.8067 - val_loss: 0.6452 - val_accuracy: 0.7844\n",
            "Epoch 25/50\n",
            "1563/1563 [==============================] - 14s 9ms/step - loss: 0.5471 - accuracy: 0.8093 - val_loss: 0.6095 - val_accuracy: 0.7952\n",
            "Epoch 26/50\n",
            "1563/1563 [==============================] - 14s 9ms/step - loss: 0.5424 - accuracy: 0.8112 - val_loss: 0.5556 - val_accuracy: 0.8100\n",
            "Epoch 27/50\n",
            "1563/1563 [==============================] - 14s 9ms/step - loss: 0.5378 - accuracy: 0.8124 - val_loss: 0.6079 - val_accuracy: 0.7964\n",
            "Epoch 28/50\n",
            "1563/1563 [==============================] - 14s 9ms/step - loss: 0.5289 - accuracy: 0.8153 - val_loss: 0.5667 - val_accuracy: 0.8067\n",
            "Epoch 29/50\n",
            "1563/1563 [==============================] - 14s 9ms/step - loss: 0.5232 - accuracy: 0.8192 - val_loss: 0.5417 - val_accuracy: 0.8199\n",
            "Epoch 30/50\n",
            "1563/1563 [==============================] - 15s 9ms/step - loss: 0.5147 - accuracy: 0.8203 - val_loss: 0.5416 - val_accuracy: 0.8211\n",
            "Epoch 31/50\n",
            "1563/1563 [==============================] - 14s 9ms/step - loss: 0.5114 - accuracy: 0.8214 - val_loss: 0.5394 - val_accuracy: 0.8194\n",
            "Epoch 32/50\n",
            "1563/1563 [==============================] - 14s 9ms/step - loss: 0.5119 - accuracy: 0.8222 - val_loss: 0.5701 - val_accuracy: 0.8131\n",
            "Epoch 33/50\n",
            "1563/1563 [==============================] - 15s 10ms/step - loss: 0.5044 - accuracy: 0.8253 - val_loss: 0.5535 - val_accuracy: 0.8152\n",
            "Epoch 34/50\n",
            "1563/1563 [==============================] - 15s 10ms/step - loss: 0.5030 - accuracy: 0.8247 - val_loss: 0.5248 - val_accuracy: 0.8267\n",
            "Epoch 35/50\n",
            "1563/1563 [==============================] - 14s 9ms/step - loss: 0.4915 - accuracy: 0.8308 - val_loss: 0.5275 - val_accuracy: 0.8247\n",
            "Epoch 36/50\n",
            "1563/1563 [==============================] - 14s 9ms/step - loss: 0.4908 - accuracy: 0.8294 - val_loss: 0.5169 - val_accuracy: 0.8268\n",
            "Epoch 37/50\n",
            "1563/1563 [==============================] - 15s 9ms/step - loss: 0.4929 - accuracy: 0.8296 - val_loss: 0.5372 - val_accuracy: 0.8181\n",
            "Epoch 38/50\n",
            "1563/1563 [==============================] - 16s 10ms/step - loss: 0.4880 - accuracy: 0.8316 - val_loss: 0.5492 - val_accuracy: 0.8168\n",
            "Epoch 39/50\n",
            "1563/1563 [==============================] - 15s 10ms/step - loss: 0.4789 - accuracy: 0.8345 - val_loss: 0.5043 - val_accuracy: 0.8312\n",
            "Epoch 40/50\n",
            "1563/1563 [==============================] - 15s 10ms/step - loss: 0.4799 - accuracy: 0.8335 - val_loss: 0.5483 - val_accuracy: 0.8245\n",
            "Epoch 41/50\n",
            "1563/1563 [==============================] - 15s 9ms/step - loss: 0.4781 - accuracy: 0.8369 - val_loss: 0.5676 - val_accuracy: 0.8154\n",
            "Epoch 42/50\n",
            "1563/1563 [==============================] - 15s 9ms/step - loss: 0.4734 - accuracy: 0.8362 - val_loss: 0.5664 - val_accuracy: 0.8180\n",
            "Epoch 43/50\n",
            "1563/1563 [==============================] - 14s 9ms/step - loss: 0.4714 - accuracy: 0.8374 - val_loss: 0.5616 - val_accuracy: 0.8150\n",
            "Epoch 44/50\n",
            "1563/1563 [==============================] - 15s 9ms/step - loss: 0.4720 - accuracy: 0.8374 - val_loss: 0.5284 - val_accuracy: 0.8243\n",
            "Epoch 45/50\n",
            "1563/1563 [==============================] - 15s 10ms/step - loss: 0.4680 - accuracy: 0.8375 - val_loss: 0.5272 - val_accuracy: 0.8278\n",
            "Epoch 46/50\n",
            "1563/1563 [==============================] - 15s 9ms/step - loss: 0.4619 - accuracy: 0.8409 - val_loss: 0.5519 - val_accuracy: 0.8234\n",
            "Epoch 47/50\n",
            "1563/1563 [==============================] - 15s 9ms/step - loss: 0.4663 - accuracy: 0.8402 - val_loss: 0.5312 - val_accuracy: 0.8236\n",
            "Epoch 48/50\n",
            "1563/1563 [==============================] - 15s 9ms/step - loss: 0.4636 - accuracy: 0.8402 - val_loss: 0.5356 - val_accuracy: 0.8249\n",
            "Epoch 49/50\n",
            "1563/1563 [==============================] - 15s 10ms/step - loss: 0.4573 - accuracy: 0.8418 - val_loss: 0.5015 - val_accuracy: 0.8351\n",
            "Epoch 50/50\n",
            "1563/1563 [==============================] - 15s 10ms/step - loss: 0.4549 - accuracy: 0.8426 - val_loss: 0.5298 - val_accuracy: 0.8320\n"
          ]
        },
        {
          "data": {
            "text/plain": [
              "<keras.callbacks.History at 0x244c1f18cd0>"
            ]
          },
          "execution_count": 26,
          "metadata": {},
          "output_type": "execute_result"
        }
      ],
      "source": [
        "batch_size = 32\n",
        "\n",
        "opt = keras.optimizers.RMSprop(lr=0.0005)\n",
        "\n",
        "\n",
        "model_supple1.compile(loss='categorical_crossentropy',\n",
        "              optimizer=opt,\n",
        "              metrics=['accuracy'])\n",
        "\n",
        "model_supple1.fit(x_train, y_train,\n",
        "              batch_size=batch_size,\n",
        "              epochs=50,\n",
        "              validation_data=(x_test, y_test))"
      ]
    },
    {
      "cell_type": "markdown",
      "id": "compact-still",
      "metadata": {
        "id": "compact-still"
      },
      "source": [
        "#### Conclusion"
      ]
    },
    {
      "cell_type": "markdown",
      "id": "ef5f9e6a",
      "metadata": {},
      "source": [
        "> This activity helped me understand the building and evaluation of convolutional neural networks. Understanding the whole convolutional neural networks is pretty confusing at first, due to its multiple layered architecture, and some of its paramters being new knowledge to me. As time goes by and endless hours of looking into my screen, I somehow understood the architecture of the CNN. Training the model is time consuming, so I used a different kernel, named CUDA, where it utilizes the computer's GPU for faster training. Hyptertuning the parameters is pretty challenging, but it is needed for higher accuracy and low loss. Overall, this activity helped me understand the whole concept of building and evaluating a model using convolutional neural networks."
      ]
    }
  ],
  "metadata": {
    "colab": {
      "provenance": []
    },
    "kernelspec": {
      "display_name": "Python 3",
      "language": "python",
      "name": "python3"
    },
    "language_info": {
      "codemirror_mode": {
        "name": "ipython",
        "version": 3
      },
      "file_extension": ".py",
      "mimetype": "text/x-python",
      "name": "python",
      "nbconvert_exporter": "python",
      "pygments_lexer": "ipython3",
      "version": "3.9.18"
    }
  },
  "nbformat": 4,
  "nbformat_minor": 5
}
