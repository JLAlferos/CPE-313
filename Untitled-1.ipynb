{
 "cells": [
  {
   "cell_type": "markdown",
   "metadata": {},
   "source": [
    "# Imports"
   ]
  },
  {
   "cell_type": "code",
   "execution_count": 1,
   "metadata": {},
   "outputs": [],
   "source": [
    "import os\n",
    "import cv2"
   ]
  },
  {
   "cell_type": "code",
   "execution_count": 2,
   "metadata": {},
   "outputs": [
    {
     "ename": "FileNotFoundError",
     "evalue": "[WinError 3] The system cannot find the path specified: 'images'",
     "output_type": "error",
     "traceback": [
      "\u001b[1;31m---------------------------------------------------------------------------\u001b[0m",
      "\u001b[1;31mFileNotFoundError\u001b[0m                         Traceback (most recent call last)",
      "Cell \u001b[1;32mIn[2], line 3\u001b[0m\n\u001b[0;32m      1\u001b[0m path \u001b[38;5;241m=\u001b[39m \u001b[38;5;124m'\u001b[39m\u001b[38;5;124mimages\u001b[39m\u001b[38;5;124m'\u001b[39m\n\u001b[0;32m      2\u001b[0m video_path \u001b[38;5;241m=\u001b[39m \u001b[38;5;124m'\u001b[39m\u001b[38;5;124mraw_vid\u001b[39m\u001b[38;5;124m'\u001b[39m\n\u001b[1;32m----> 3\u001b[0m moods \u001b[38;5;241m=\u001b[39m \u001b[43mos\u001b[49m\u001b[38;5;241;43m.\u001b[39;49m\u001b[43mlistdir\u001b[49m\u001b[43m(\u001b[49m\u001b[43mpath\u001b[49m\u001b[43m)\u001b[49m\n\u001b[0;32m      6\u001b[0m \u001b[38;5;28;01mdef\u001b[39;00m \u001b[38;5;21mvideo_conv\u001b[39m(video_files, save_folder):\n\u001b[0;32m      7\u001b[0m     face_cascade \u001b[38;5;241m=\u001b[39m cv2\u001b[38;5;241m.\u001b[39mCascadeClassifier(\u001b[38;5;124m'\u001b[39m\u001b[38;5;124mhaarcascade_frontalface_default.xml\u001b[39m\u001b[38;5;124m'\u001b[39m)\n",
      "\u001b[1;31mFileNotFoundError\u001b[0m: [WinError 3] The system cannot find the path specified: 'images'"
     ]
    }
   ],
   "source": [
    "path = 'images'\n",
    "video_path = 'raw_vid'\n",
    "moods = os.listdir(path)\n",
    "\n",
    "\n",
    "def video_conv(video_files, save_folder):\n",
    "    face_cascade = cv2.CascadeClassifier('haarcascade_frontalface_default.xml')\n",
    "    j = 1 #counter of saved images\n",
    "    \n",
    "    for file in video_files:\n",
    "        print(\"Extracting\",file)\n",
    "        video = cv2.VideoCapture(file)\n",
    "        if not video.isOpened():\n",
    "            print(f\"Error: Could not open video file {file}\")\n",
    "            continue\n",
    "        i = 0\n",
    "        while True:\n",
    "            i += 1\n",
    "            ret, frame = video.read()\n",
    "            if i!=2: continue\n",
    "            i = 0\n",
    "            if not ret:\n",
    "                break\n",
    "            gray = cv2.cvtColor(frame, cv2.COLOR_BGR2GRAY)\n",
    "\n",
    "            faces = face_cascade.detectMultiScale(gray, 1.5, 5)\n",
    "\n",
    "            for (x, y, w, h) in faces:\n",
    "                roi_gray = gray[y:y + h, x:x + w]\n",
    "                roi = cv2.resize(roi_gray, (224,224), interpolation=cv2.INTER_LINEAR)\n",
    "                cv2.imwrite(os.path.join(save_folder, f'image_{j}.jpg'), roi)\n",
    "                j += 1\n",
    "        video.release()\n",
    "\n",
    "for mood in moods:\n",
    "  print(mood)\n",
    "  files = os.listdir(f'{video_path}/{mood}')\n",
    "  video_files = [os.path.join(video_path,mood,file) for file in files if file.endswith(('.mp4', '.avi', '.MOV'))]\n",
    "  video_conv(video_files,f'{path}/{mood}')"
   ]
  },
  {
   "cell_type": "code",
   "execution_count": null,
   "metadata": {},
   "outputs": [],
   "source": []
  }
 ],
 "metadata": {
  "kernelspec": {
   "display_name": "tf",
   "language": "python",
   "name": "python3"
  },
  "language_info": {
   "codemirror_mode": {
    "name": "ipython",
    "version": 3
   },
   "file_extension": ".py",
   "mimetype": "text/x-python",
   "name": "python",
   "nbconvert_exporter": "python",
   "pygments_lexer": "ipython3",
   "version": "3.9.18"
  }
 },
 "nbformat": 4,
 "nbformat_minor": 2
}
