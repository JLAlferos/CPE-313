{
  "nbformat": 4,
  "nbformat_minor": 0,
  "metadata": {
    "colab": {
      "provenance": []
    },
    "kernelspec": {
      "name": "python3",
      "display_name": "Python 3"
    },
    "language_info": {
      "name": "python"
    }
  },
  "cells": [
    {
      "cell_type": "code",
      "source": [
        "# Neural Network"
      ],
      "metadata": {
        "id": "YEONF7t_UpNA"
      },
      "execution_count": 1,
      "outputs": []
    },
    {
      "cell_type": "code",
      "execution_count": 33,
      "metadata": {
        "id": "zVn19WzQKzMQ"
      },
      "outputs": [],
      "source": [
        "class Neuron:\n",
        "  def __init__(self, input, weights):\n",
        "    self.input = input\n",
        "    self.weights = weights\n",
        "    self.output = self.activation_function()\n",
        "\n",
        "  def adder_function(self, input, weights):\n",
        "    temp = 0\n",
        "    for i in range (len(self.weights)):\n",
        "      temp += self.input[i] * self.weights[i]\n",
        "\n",
        "    return int(temp)\n",
        "\n",
        "  # relu\n",
        "  def activation_function(self):\n",
        "    temp = self.adder_function(self.input, self.weights)\n",
        "    if temp > 0:\n",
        "      return temp\n",
        "    else:\n",
        "      return 0\n"
      ]
    },
    {
      "cell_type": "code",
      "source": [
        "import numpy as np"
      ],
      "metadata": {
        "id": "amlMfT0_crHd"
      },
      "execution_count": 34,
      "outputs": []
    },
    {
      "cell_type": "code",
      "source": [
        "# Testing"
      ],
      "metadata": {
        "id": "ZV1yWOnZc8Xc"
      },
      "execution_count": 35,
      "outputs": []
    },
    {
      "cell_type": "code",
      "source": [
        "w = 2 * np.random.random((3,1))\n",
        "a = Neuron([1,2,3], w)\n",
        "a.output"
      ],
      "metadata": {
        "colab": {
          "base_uri": "https://localhost:8080/"
        },
        "id": "zLO70yz9bRUm",
        "outputId": "85db2312-4ef4-4b0e-89fd-566b5d8138f5"
      },
      "execution_count": 36,
      "outputs": [
        {
          "output_type": "execute_result",
          "data": {
            "text/plain": [
              "1"
            ]
          },
          "metadata": {},
          "execution_count": 36
        }
      ]
    }
  ]
}